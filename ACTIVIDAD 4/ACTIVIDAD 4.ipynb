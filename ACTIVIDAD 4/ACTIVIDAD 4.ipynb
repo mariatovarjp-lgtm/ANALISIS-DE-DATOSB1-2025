{
 "cells": [
  {
   "cell_type": "code",
   "execution_count": null,
   "id": "d12a2f1f",
   "metadata": {},
   "outputs": [],
   "source": []
  },
  {
   "cell_type": "markdown",
   "id": "95bb2997",
   "metadata": {},
   "source": [
    "Creación de conjuntos en python"
   ]
  },
  {
   "cell_type": "code",
   "execution_count": 9,
   "id": "8e0d80f3",
   "metadata": {},
   "outputs": [],
   "source": [
    "#se crean 3 conjuntos de nombres \n",
    "#usando en constructor set()\n",
    "\n",
    "group_a = set(['Ana', 'Marcos', 'Carlos', 'Mario'])\n",
    "group_b = set({'Ana', 'Pedro', 'Carlos', 'Antonio'})\n",
    "group_c = set ({'Ana', 'Antonio', 'Marcos', 'Pepe'})\n",
    "\n"
   ]
  },
  {
   "cell_type": "code",
   "execution_count": null,
   "id": "b3152317",
   "metadata": {},
   "outputs": [],
   "source": [
    ">>> all_students = group_a.union(group_b).union(group_c)\n",
    ">>> all_students\n",
    "{'Marcos', 'Carlos', 'Mario', 'Pepe', 'Antonio', 'Pedro', 'Ana'}\n",
    ">>> a_and_b = group_a.intersection(group_b)\n",
    ">>> a_and_b\n",
    "{'Ana', 'Carlos'}\n",
    ">>> a_and_c = group_a.intersection(group_c)\n",
    ">>> a_and_c\n",
    "{'Ana', 'Marcos'}\n",
    ">>> b_and_c = group_b.intersection(group_c)\n",
    ">>> b_and_c\n",
    "{'Ana', 'Antonio'}\n",
    ">>> common_all = group_a.intersection(group_b).intersection(group_c)\n",
    ">>> common_all\n",
    "{'Ana'}"
   ]
  }
 ],
 "metadata": {
  "kernelspec": {
   "display_name": "Python 3",
   "language": "python",
   "name": "python3"
  },
  "language_info": {
   "codemirror_mode": {
    "name": "ipython",
    "version": 3
   },
   "file_extension": ".py",
   "mimetype": "text/x-python",
   "name": "python",
   "nbconvert_exporter": "python",
   "pygments_lexer": "ipython3",
   "version": "3.12.1"
  }
 },
 "nbformat": 4,
 "nbformat_minor": 5
}
