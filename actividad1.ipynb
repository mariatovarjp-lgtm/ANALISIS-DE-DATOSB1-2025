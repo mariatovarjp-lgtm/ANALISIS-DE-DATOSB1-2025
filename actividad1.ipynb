{
 "cells": [
  {
   "cell_type": "markdown",
   "id": "be5478b0",
   "metadata": {},
   "source": [
    "EVIDENCIA DE APRENDIZAJE 1\n",
    "MALENI A CINFIENTES, MARIA TOVAR"
   ]
  },
  {
   "cell_type": "markdown",
   "id": "bacb2768",
   "metadata": {},
   "source": [
    "Punto 1: "
   ]
  }
 ],
 "metadata": {
  "language_info": {
   "name": "python"
  }
 },
 "nbformat": 4,
 "nbformat_minor": 5
}
