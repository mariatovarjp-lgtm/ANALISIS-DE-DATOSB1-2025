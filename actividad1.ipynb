{
 "cells": [
  {
   "cell_type": "markdown",
   "id": "be5478b0",
   "metadata": {},
   "source": [
    "EVIDENCIA DE APRENDIZAJE 1\n",
    "MALENI A CINFIENTES, MARIA TOVAR"
   ]
  },
  {
   "cell_type": "code",
   "execution_count": null,
   "id": "853aebcc",
   "metadata": {
    "vscode": {
     "languageId": "plaintext"
    }
   },
   "outputs": [],
   "source": [
    "import numpy as np\n",
    "import matplotlib.pyplot as plt\n",
    "\n",
    "# Definimos la interfaz de usuario (IU)\n",
    "def graficar_polinomios(*polinomios):\n",
    "    \"\"\"\n",
    "    Recibe un número arbitrario de polinomios en la forma (a, n)\n",
    "    y los grafica en la misma figura.\n",
    "    \"\"\"\n",
    "    x = np.linspace(-10, 10, 400)  # valores para X\n",
    "    \n",
    "    plt.figure(figsize=(8, 6))\n",
    "    \n",
    "    for a, n in polinomios:\n",
    "        y = a * (x**n)\n",
    "        plt.plot(x, y, label=f\"{a}x^{n}\")\n",
    "    \n",
    "    plt.title(\"Gráfica de polinomios de la forma a·x^n\")\n",
    "    plt.xlabel(\"x\")\n",
    "    plt.ylabel(\"y\")\n",
    "    plt.axhline(0, color=\"black\", linewidth=0.8)\n",
    "    plt.axvline(0, color=\"black\", linewidth=0.8)\n",
    "    plt.legend()\n",
    "    plt.grid(True)\n",
    "    plt.show()\n",
    "\n",
    "\n",
    "# Ejemplo de uso\n",
    "graficar_polinomios((1, 2), (-1, 3), (2, 1), (0.5, 4))"
   ]
  },
  {
   "cell_type": "code",
   "execution_count": null,
   "id": "0f83225c",
   "metadata": {},
   "outputs": [],
   "source": []
  }
 ],
 "metadata": {
  "language_info": {
   "name": "python"
  }
 },
 "nbformat": 4,
 "nbformat_minor": 5
}
