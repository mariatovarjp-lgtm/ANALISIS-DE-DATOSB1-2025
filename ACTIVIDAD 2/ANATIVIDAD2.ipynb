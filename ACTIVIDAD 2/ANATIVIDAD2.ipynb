{
 "cells": [
  {
   "cell_type": "code",
   "execution_count": 1,
   "id": "b06237ad",
   "metadata": {},
   "outputs": [
    {
     "name": "stdout",
     "output_type": "stream",
     "text": [
      "Array de 10 a 29: [10 11 12 13 14 15 16 17 18 19 20 21 22 23 24 25 26 27 28 29]\n",
      "Suma de array 10x10 de unos: 100.0\n",
      "Array A: [7 4 8 5 7]\n",
      "Array B: [10  3  7  8  5]\n",
      "Producto elemento a elemento: [70 12 56 40 35]\n",
      "Matriz i*j:\n",
      " [[0 0 0 0]\n",
      " [0 1 2 3]\n",
      " [0 2 4 6]\n",
      " [0 3 6 9]]\n",
      "La matriz no es invertible.\n",
      "Máximo: 0.9868869366005173 en índice 61\n",
      "Mínimo: 0.005522117123602399 en índice 64\n"
     ]
    }
   ],
   "source": [
    "import numpy as np\n",
    "import matplotlib.pyplot as plt\n",
    "\n",
    "# 1. Genera un array de NumPy con valores desde 10 hasta 29\n",
    "arr1 = np.arange(10, 30)\n",
    "print(\"Array de 10 a 29:\", arr1)\n",
    "\n",
    "# 2. Suma de todos los elementos en un array de 10x10 lleno de unos\n",
    "arr2 = np.ones((10, 10))\n",
    "suma_arr2 = np.sum(arr2)\n",
    "print(\"Suma de array 10x10 de unos:\", suma_arr2)\n",
    "\n",
    "# 3. Producto elemento a elemento de dos arrays de tamaño 5 con números aleatorios de 1 a 10\n",
    "np.random.seed(42)  # Para reproducibilidad\n",
    "arr3_a = np.random.randint(1, 11, size=5)\n",
    "arr3_b = np.random.randint(1, 11, size=5)\n",
    "producto_elemento = arr3_a * arr3_b\n",
    "print(\"Array A:\", arr3_a)\n",
    "print(\"Array B:\", arr3_b)\n",
    "print(\"Producto elemento a elemento:\", producto_elemento)\n",
    "\n",
    "# 4. Matriz 4x4 con elementos i*j, y su inversa\n",
    "i, j = np.meshgrid(np.arange(4), np.arange(4), indexing='ij')\n",
    "matriz_ij = i * j\n",
    "print(\"Matriz i*j:\\n\", matriz_ij)\n",
    "\n",
    "# Solo si es invertible (determinante != 0)\n",
    "if np.linalg.det(matriz_ij) != 0:\n",
    "    inversa = np.linalg.inv(matriz_ij)\n",
    "    print(\"Inversa de la matriz:\\n\", inversa)\n",
    "else:\n",
    "    print(\"La matriz no es invertible.\")\n",
    "\n",
    "# 5. Valores máximo y mínimo en un array de 100 elementos aleatorios + índices\n",
    "arr5 = np.random.random(100)\n",
    "max_val = np.max(arr5)\n",
    "min_val = np.min(arr5)\n",
    "idx_max = np.argmax(arr5)\n",
    "idx_min = np.argmin(arr5)\n",
    "print(f\"Máximo: {max_val} en índice {idx_max}\")\n",
    "print(f\"Mínimo: {min_val} en índice {idx_min}\")"
   ]
  },
  {
   "cell_type": "code",
   "execution_count": 2,
   "id": "0bfd68f7",
   "metadata": {},
   "outputs": [
    {
     "name": "stdout",
     "output_type": "stream",
     "text": [
      "Resultado broadcasting 3x3:\n",
      " [[11 21 31]\n",
      " [12 22 32]\n",
      " [13 23 33]]\n",
      "Matriz 5x5 original:\n",
      " [[36 13 32 71 59]\n",
      " [86 28 66 42 45]\n",
      " [62 57  6 28 28]\n",
      " [44 84 30 62 75]\n",
      " [92 89 62 97  1]]\n",
      "Submatriz 2x2:\n",
      " [[28 66]\n",
      " [57  6]]\n",
      "Array modificado: [0. 0. 0. 5. 5. 5. 5. 0. 0. 0.]\n",
      "Matriz original:\n",
      " [[1 2 3]\n",
      " [4 5 6]\n",
      " [7 8 9]]\n",
      "Matriz con filas invertidas:\n",
      " [[7 8 9]\n",
      " [4 5 6]\n",
      " [1 2 3]]\n",
      "Array original: [0.22793516 0.42710779 0.81801477 0.86073058 0.00695213 0.5107473\n",
      " 0.417411   0.22210781 0.11986537 0.33761517]\n",
      "Elementos > 0.5: [0.81801477 0.86073058 0.5107473 ]\n"
     ]
    }
   ],
   "source": [
    "# 6. Broadcasting: array 3x1 + array 1x3 → 3x3\n",
    "arr6_a = np.array([[1], [2], [3]])      # 3x1\n",
    "arr6_b = np.array([[10, 20, 30]])       # 1x3\n",
    "resultado_broadcast = arr6_a + arr6_b\n",
    "print(\"Resultado broadcasting 3x3:\\n\", resultado_broadcast)\n",
    "\n",
    "# 7. Submatriz 2x2 desde la segunda fila y columna (índices 1:3, 1:3)\n",
    "matriz7 = np.random.randint(1, 100, (5,5))\n",
    "submatriz = matriz7[1:3, 1:3]\n",
    "print(\"Matriz 5x5 original:\\n\", matriz7)\n",
    "print(\"Submatriz 2x2:\\n\", submatriz)\n",
    "\n",
    "# 8. Array de ceros de tamaño 10, cambiar índices 3 a 6 a 5\n",
    "arr8 = np.zeros(10)\n",
    "arr8[3:7] = 5  # [3,4,5,6] → 4 elementos\n",
    "print(\"Array modificado:\", arr8)\n",
    "\n",
    "# 9. Invertir orden de filas de una matriz 3x3\n",
    "matriz9 = np.array([[1,2,3], [4,5,6], [7,8,9]])\n",
    "matriz9_invertida = matriz9[::-1]\n",
    "print(\"Matriz original:\\n\", matriz9)\n",
    "print(\"Matriz con filas invertidas:\\n\", matriz9_invertida)\n",
    "\n",
    "# 10. Seleccionar elementos > 0.5 en array de 10 números aleatorios\n",
    "arr10 = np.random.random(10)\n",
    "seleccion = arr10[arr10 > 0.5]\n",
    "print(\"Array original:\", arr10)\n",
    "print(\"Elementos > 0.5:\", seleccion)"
   ]
  }
 ],
 "metadata": {
  "kernelspec": {
   "display_name": "Python 3",
   "language": "python",
   "name": "python3"
  },
  "language_info": {
   "codemirror_mode": {
    "name": "ipython",
    "version": 3
   },
   "file_extension": ".py",
   "mimetype": "text/x-python",
   "name": "python",
   "nbconvert_exporter": "python",
   "pygments_lexer": "ipython3",
   "version": "3.12.1"
  }
 },
 "nbformat": 4,
 "nbformat_minor": 5
}
