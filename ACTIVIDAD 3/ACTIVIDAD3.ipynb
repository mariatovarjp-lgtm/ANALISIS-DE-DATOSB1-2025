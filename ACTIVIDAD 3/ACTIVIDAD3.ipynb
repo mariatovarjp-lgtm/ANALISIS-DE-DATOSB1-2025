{
 "cells": [
  {
   "cell_type": "markdown",
   "id": "8dbb8bfe",
   "metadata": {},
   "source": [
    "EVIDENCIA DE APRENDIZAJE 3:\n",
    "\n",
    "MALENIA JURANY CIFUENTES ALVAREZ CC:1123309582 , MARIA JOSÉ TOVAR PATERNINA CC:1005584586\n",
    "\n",
    "Analítica de Datos (andres felipe callejas) - PREICA2502B010096"
   ]
  },
  {
   "cell_type": "markdown",
   "id": "0d4de1c1",
   "metadata": {},
   "source": [
    "**PUNTO 1:** Creación DataFrame de frutas."
   ]
  },
  {
   "cell_type": "code",
   "execution_count": 10,
   "id": "54bec971",
   "metadata": {},
   "outputs": [
    {
     "name": "stdout",
     "output_type": "stream",
     "text": [
      "   Granadilla  Tomates  Naranjas  Sandia  Maracuyá  fresa\n",
      "0          20       50        80      40        10      3\n",
      "1          35       40        75      70        20     65\n",
      "2          12       60        90      35        65     45\n",
      "3          45       55        85      20        43     32\n",
      "4          28       65        92      50         8     12\n"
     ]
    }
   ],
   "source": [
    "import pandas as pd\n",
    "\n",
    "# Creamos un diccionario con los datos\n",
    "datos = {\n",
    "    'Granadilla': [20, 35, 12, 45, 28],\n",
    "    'Tomates': [50, 40, 60, 55, 65],\n",
    "    'Naranjas': [80, 75, 90, 85, 92],\n",
    "    'Sandia': [40, 70, 35, 20, 50],\n",
    "    'Maracuyá': [10, 20, 65, 43, 8],\n",
    "    'fresa': [3, 65, 45, 32, 12],\n",
    "\n",
    "}\n",
    "\n",
    "# Creamos el DataFrame a partir del diccionario\n",
    "frutas = pd.DataFrame(datos)\n",
    "\n",
    "# Imprimimos el DataFrame para verificar el resultado\n",
    "print(frutas) "
   ]
  },
  {
   "cell_type": "markdown",
   "id": "0063ec35",
   "metadata": {},
   "source": [
    "**PUNTO 2:** Creación DataFrame Ventas_Frutas"
   ]
  },
  {
   "cell_type": "code",
   "execution_count": 1,
   "id": "74684739",
   "metadata": {},
   "outputs": [
    {
     "name": "stdout",
     "output_type": "stream",
     "text": [
      "Datos de ventas por mes 2025:\n",
      "              Granadilla  Tomates  Naranjas  Sandia  Maracuyá  fresa\n",
      "Enero 2025            20       50        80      40        10      3\n",
      "Febrero 2025          35       40        75      70        20     65\n",
      "Marzo 2025            12       60        90      35        65     45\n",
      "Abril 2025            45       55        85      20        43     32\n",
      "Mayo 2025             28       65        92      50         8     12\n",
      "\n",
      "Suma de ventas por mes:\n",
      "Enero 2025      203\n",
      "Febrero 2025    305\n",
      "Marzo 2025      307\n",
      "Abril 2025      280\n",
      "Mayo 2025       255\n",
      "dtype: int64\n"
     ]
    }
   ],
   "source": [
    "import pandas as pd\n",
    "\n",
    "# Creamos el DataFrame ventas_frutas\n",
    "datos = {\n",
    "    'Granadilla': [20, 35, 12, 45, 28],\n",
    "    'Tomates': [50, 40, 60, 55, 65],\n",
    "    'Naranjas': [80, 75, 90, 85, 92],\n",
    "    'Sandia': [40, 70, 35, 20, 50],\n",
    "    'Maracuyá': [10, 20, 65, 43, 8],\n",
    "    'fresa': [3, 65, 45, 32, 12],\n",
    "}\n",
    "\n",
    "indice = ['Enero 2025', 'Febrero 2025', 'Marzo 2025', 'Abril 2025', 'Mayo 2025']\n",
    "\n",
    "ventas_frutas = pd.DataFrame(datos, index=indice)\n",
    "\n",
    "# Calculamos la suma de cada fila (por año)\n",
    "total_mensual = ventas_frutas.sum(axis=1)\n",
    "\n",
    "# Imprimimos el resultado\n",
    "print(\"Datos de ventas por mes 2025:\")\n",
    "print(ventas_frutas)\n",
    "print(\"\\nSuma de ventas por mes:\")\n",
    "print(total_mensual)"
   ]
  },
  {
   "cell_type": "markdown",
   "id": "8fc05a8b",
   "metadata": {},
   "source": [
    "**PUNTO 3:** Ceación de variable utensilios"
   ]
  },
  {
   "cell_type": "code",
   "execution_count": 14,
   "id": "3152dd5b",
   "metadata": {},
   "outputs": [
    {
     "name": "stdout",
     "output_type": "stream",
     "text": [
      "Cuchara     3 unidades\n",
      "Tenedor     2 unidades\n",
      "Cuchillo    4 unidades\n",
      "Plato       5 unidades\n",
      "Name: Cocina, dtype: object\n"
     ]
    }
   ],
   "source": [
    "import pandas as pd\n",
    "\n",
    "# Creamos un diccionario con los datos y sus respectivos índices\n",
    "datos_utensilios = {\n",
    "    'Cuchara': '3 unidades',\n",
    "    'Tenedor': '2 unidades',\n",
    "    'Cuchillo': '4 unidades',\n",
    "    'Plato': '5 unidades'\n",
    "}\n",
    "\n",
    "# Creamos la Serie de pandas, especificando los datos y el nombre\n",
    "utensilios = pd.Series(datos_utensilios, name='Cocina')\n",
    "\n",
    "# Imprimimos la Serie para verificar el resultado\n",
    "print(utensilios)"
   ]
  },
  {
   "cell_type": "markdown",
   "id": "ab624b7c",
   "metadata": {},
   "source": [
    "**PUNTO 4:** Descarga el dataset 'wine review' desde Kaggle y cárgalo en un DataFrame llamado review"
   ]
  },
  {
   "cell_type": "code",
   "execution_count": null,
   "id": "09c0fa41",
   "metadata": {},
   "outputs": [],
   "source": []
  },
  {
   "cell_type": "markdown",
   "id": "30c88fee",
   "metadata": {},
   "source": [
    "**PUNTO 5:** Visualización de las primeras filas del DataFrame"
   ]
  },
  {
   "cell_type": "markdown",
   "id": "5fc3b0cd",
   "metadata": {},
   "source": [
    "**PUNTO 6:** Utilización del método .info()"
   ]
  },
  {
   "cell_type": "markdown",
   "id": "a6cdaf87",
   "metadata": {},
   "source": [
    "**PUNTO 7:** ¿Cuál es el precio promedio?"
   ]
  },
  {
   "cell_type": "markdown",
   "id": "951ccdd9",
   "metadata": {},
   "source": [
    "**PUNTO 8:** ¿Cuál es el precio más alto pagado?"
   ]
  },
  {
   "cell_type": "markdown",
   "id": "9b208bce",
   "metadata": {},
   "source": [
    "**PUNTO 9:** Creación de un DataFrame con todos los vinos de california"
   ]
  },
  {
   "cell_type": "markdown",
   "id": "cb46b300",
   "metadata": {},
   "source": [
    "**PUNTO 10:** idxmax() para enocontrar el indice del vino"
   ]
  },
  {
   "cell_type": "markdown",
   "id": "bb963e96",
   "metadata": {},
   "source": [
    "**PUNTO 11:** ¿Cuáles son los tipos de uvas más comunes en california?"
   ]
  },
  {
   "cell_type": "markdown",
   "id": "d6b4098d",
   "metadata": {},
   "source": [
    "**PUNTO 12:** ¿Cuáles son los 10 tipos de uva más comunes en California?"
   ]
  },
  {
   "cell_type": "markdown",
   "id": "93e728f2",
   "metadata": {},
   "source": []
  }
 ],
 "metadata": {
  "kernelspec": {
   "display_name": "Python 3",
   "language": "python",
   "name": "python3"
  },
  "language_info": {
   "codemirror_mode": {
    "name": "ipython",
    "version": 3
   },
   "file_extension": ".py",
   "mimetype": "text/x-python",
   "name": "python",
   "nbconvert_exporter": "python",
   "pygments_lexer": "ipython3",
   "version": "3.12.1"
  }
 },
 "nbformat": 4,
 "nbformat_minor": 5
}
