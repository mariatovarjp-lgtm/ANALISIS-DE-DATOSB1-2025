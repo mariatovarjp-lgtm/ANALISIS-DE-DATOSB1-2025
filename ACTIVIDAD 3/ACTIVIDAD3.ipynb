{
 "cells": [
  {
   "cell_type": "markdown",
   "id": "8dbb8bfe",
   "metadata": {},
   "source": [
    "EVIDENCIA DE APRENDIZAJE 3:\n",
    "\n",
    "MALENIA JURANY CIFUENTES ALVAREZ CC:1123309582 , MARIA JOSÉ TOVAR PATERNINA CC:1005584586\n",
    "\n",
    "Analítica de Datos (andres felipe callejas) - PREICA2502B010096"
   ]
  },
  {
   "cell_type": "markdown",
   "id": "0d4de1c1",
   "metadata": {},
   "source": [
    "**PUNTO 1:** Creación DataFrame de frutas."
   ]
  },
  {
   "cell_type": "code",
   "execution_count": 18,
   "id": "54bec971",
   "metadata": {},
   "outputs": [
    {
     "name": "stdout",
     "output_type": "stream",
     "text": [
      "   Granadilla  Tomates  Naranjas  Sandia  Maracuyá  fresa\n",
      "0          20       50        80      40        10      3\n",
      "1          35       40        75      70        20     65\n",
      "2          12       60        90      35        65     45\n",
      "3          45       55        85      20        43     32\n",
      "4          28       65        92      50         8     12\n"
     ]
    }
   ],
   "source": [
    "#importamos librerias\n",
    "import pandas as pd\n",
    "\n",
    "# Creamos un diccionario con los datos\n",
    "datos = {\n",
    "    'Granadilla': [20, 35, 12, 45, 28],\n",
    "    'Tomates': [50, 40, 60, 55, 65],\n",
    "    'Naranjas': [80, 75, 90, 85, 92],\n",
    "    'Sandia': [40, 70, 35, 20, 50],\n",
    "    'Maracuyá': [10, 20, 65, 43, 8],\n",
    "    'fresa': [3, 65, 45, 32, 12],\n",
    "\n",
    "}\n",
    "\n",
    "# Creamos el DataFrame a partir del diccionario anterior \n",
    "frutas = pd.DataFrame(datos)\n",
    "\n",
    "# Imprimimos el DataFrame\n",
    "print(frutas) "
   ]
  },
  {
   "cell_type": "markdown",
   "id": "0063ec35",
   "metadata": {},
   "source": [
    "**PUNTO 2:** Creación DataFrame Ventas_Frutas"
   ]
  },
  {
   "cell_type": "code",
   "execution_count": 20,
   "id": "74684739",
   "metadata": {},
   "outputs": [
    {
     "name": "stdout",
     "output_type": "stream",
     "text": [
      "ventas de frutas por mes 2025:\n",
      "              Granadilla  Tomates  Naranjas  Sandia  Maracuyá  fresa\n",
      "Enero 2025            20       50        80      40        10      3\n",
      "Febrero 2025          35       40        75      70        20     65\n",
      "Marzo 2025            12       60        90      35        65     45\n",
      "Abril 2025            45       55        85      20        43     32\n",
      "Mayo 2025             28       65        92      50         8     12\n",
      "\n",
      "Total de ventas por mes:\n",
      "Enero 2025      203\n",
      "Febrero 2025    305\n",
      "Marzo 2025      307\n",
      "Abril 2025      280\n",
      "Mayo 2025       255\n",
      "dtype: int64\n"
     ]
    }
   ],
   "source": [
    "#importamos librerias\n",
    "import pandas as pd\n",
    "\n",
    "# Creamos el DataFrame ventas_frutas con los siguientes datos:\n",
    "datos = {\n",
    "    'Granadilla': [20, 35, 12, 45, 28],\n",
    "    'Tomates': [50, 40, 60, 55, 65],\n",
    "    'Naranjas': [80, 75, 90, 85, 92],\n",
    "    'Sandia': [40, 70, 35, 20, 50],\n",
    "    'Maracuyá': [10, 20, 65, 43, 8],\n",
    "    'fresa': [3, 65, 45, 32, 12],\n",
    "}\n",
    "indice = ['Enero 2025', 'Febrero 2025', 'Marzo 2025', 'Abril 2025', 'Mayo 2025']\n",
    "\n",
    "ventas_frutas = pd.DataFrame(datos, index=indice)\n",
    "\n",
    "# Calculamos la suma de cada fila (por año)\n",
    "total_mensual = ventas_frutas.sum(axis=1)\n",
    "\n",
    "# Imprimimos el resultado\n",
    "print(\"ventas de frutas por mes 2025:\")\n",
    "print(ventas_frutas)\n",
    "print(\"\\nTotal de ventas por mes:\")\n",
    "print(total_mensual)"
   ]
  },
  {
   "cell_type": "markdown",
   "id": "8fc05a8b",
   "metadata": {},
   "source": [
    "**PUNTO 3:** Ceación de variable utensilios"
   ]
  },
  {
   "cell_type": "code",
   "execution_count": 26,
   "id": "3152dd5b",
   "metadata": {},
   "outputs": [
    {
     "name": "stdout",
     "output_type": "stream",
     "text": [
      "utensilios de cocina\n",
      "Cuchara     3 unidades\n",
      "Tenedor     2 unidades\n",
      "Cuchillo    4 unidades\n",
      "Plato       5 unidades\n",
      "vaso        8 unidades\n",
      "sartenes    4 unidades\n",
      "Name: Cocina, dtype: object\n"
     ]
    }
   ],
   "source": [
    "import pandas as pd\n",
    "\n",
    "# Creamos un diccionario con los datos y sus respectivos índices\n",
    "datos_utensilios = {\n",
    "    'Cuchara': '3 unidades',\n",
    "    'Tenedor': '2 unidades',\n",
    "    'Cuchillo': '4 unidades',\n",
    "    'Plato': '5 unidades',\n",
    "    'vaso' : '8 unidades',\n",
    "    'sartenes' : '4 unidades'\n",
    "}\n",
    "\n",
    "# Creamos la Serie de pandas (datos y el nombre)\n",
    "utensilios = pd.Series(datos_utensilios, name='Cocina')\n",
    "\n",
    "# Imprimimos los resultados\n",
    "print(\"utensilios de cocina\")\n",
    "print(utensilios)"
   ]
  },
  {
   "cell_type": "markdown",
   "id": "ab624b7c",
   "metadata": {},
   "source": [
    "**PUNTO 4:** Descarga el dataset 'wine review' desde Kaggle y cárgalo en un DataFrame llamado review"
   ]
  },
  {
   "cell_type": "code",
   "execution_count": 7,
   "id": "52aeff1a",
   "metadata": {},
   "outputs": [
    {
     "name": "stdout",
     "output_type": "stream",
     "text": [
      "DataFrame 'review' cargado con éxito\n",
      "    country                                        description  \\\n",
      "0     Italy  Aromas include tropical fruit, broom, brimston...   \n",
      "1  Portugal  This is ripe and fruity, a wine that is smooth...   \n",
      "2        US  Tart and snappy, the flavors of lime flesh and...   \n",
      "3        US  Pineapple rind, lemon pith and orange blossom ...   \n",
      "4        US  Much like the regular bottling from 2012, this...   \n",
      "\n",
      "                          designation  points  price           province  \\\n",
      "0                        Vulkà Bianco      87    NaN  Sicily & Sardinia   \n",
      "1                            Avidagos      87   15.0              Douro   \n",
      "2                                 NaN      87   14.0             Oregon   \n",
      "3                Reserve Late Harvest      87   13.0           Michigan   \n",
      "4  Vintner's Reserve Wild Child Block      87   65.0             Oregon   \n",
      "\n",
      "              region_1           region_2         taster_name  \\\n",
      "0                 Etna                NaN       Kerin O’Keefe   \n",
      "1                  NaN                NaN          Roger Voss   \n",
      "2    Willamette Valley  Willamette Valley        Paul Gregutt   \n",
      "3  Lake Michigan Shore                NaN  Alexander Peartree   \n",
      "4    Willamette Valley  Willamette Valley        Paul Gregutt   \n",
      "\n",
      "  taster_twitter_handle                                              title  \\\n",
      "0          @kerinokeefe                  Nicosia 2013 Vulkà Bianco  (Etna)   \n",
      "1            @vossroger      Quinta dos Avidagos 2011 Avidagos Red (Douro)   \n",
      "2           @paulgwine       Rainstorm 2013 Pinot Gris (Willamette Valley)   \n",
      "3                   NaN  St. Julian 2013 Reserve Late Harvest Riesling ...   \n",
      "4           @paulgwine   Sweet Cheeks 2012 Vintner's Reserve Wild Child...   \n",
      "\n",
      "          variety               winery  \n",
      "0     White Blend              Nicosia  \n",
      "1  Portuguese Red  Quinta dos Avidagos  \n",
      "2      Pinot Gris            Rainstorm  \n",
      "3        Riesling           St. Julian  \n",
      "4      Pinot Noir         Sweet Cheeks  \n",
      "--------------------\n",
      "Dimensiones: 129971 filas y 13 columnas.\n"
     ]
    }
   ],
   "source": [
    "#importamos librerias\n",
    "import pandas as pd\n",
    "\n",
    "# Paso 1: Definir la ruta relativa al archivo CSV. \n",
    "# el archivo CSV está en la subcarpeta de la actividad 3: 'data'.\n",
    "file_path = './data/winemag-data-130k-v2.csv'\n",
    "\n",
    "# Paso 2: Cargar el archivo en el DataFrame llamado 'review'\n",
    "try:\n",
    "    # Usamos pd.read_csv() para cargar el dataset\n",
    "    review = pd.read_csv(file_path)\n",
    "\n",
    "    # Paso 3: Limpieza (Eliminar la columna 'Unnamed: 0')\n",
    "    # obtenemos un DataFrame más limpio y similar al análisis estándar.\n",
    "    if 'Unnamed: 0' in review.columns:\n",
    "        review = review.drop('Unnamed: 0', axis=1)\n",
    "\n",
    "    # Paso 4: Verificación (Mostrar las primeras filas y dimensiones)\n",
    "    print(\"DataFrame 'review' cargado con éxito\")\n",
    "    print(review.head())\n",
    "    print(\"-\" * 20)\n",
    "    print(f\"Dimensiones: {review.shape[0]} filas y {review.shape[1]} columnas.\")\n",
    "    \n",
    "except FileNotFoundError:\n",
    "    print(f\"¡ERROR! Archivo no encontrado en la ruta: {file_path}\")\n",
    "    print(\"Por favor, asegúrate de que el archivo 'winemag-data-130k-v2.csv' esté en la carpeta 'data'.\")"
   ]
  },
  {
   "cell_type": "code",
   "execution_count": 6,
   "id": "0ef93494",
   "metadata": {},
   "outputs": [
    {
     "name": "stdout",
     "output_type": "stream",
     "text": [
      "--- DataFrame 'review' cargado con la versión 150k ---\n",
      "  country                                        description  \\\n",
      "0      US  This tremendous 100% varietal wine hails from ...   \n",
      "1   Spain  Ripe aromas of fig, blackberry and cassis are ...   \n",
      "2      US  Mac Watson honors the memory of a wine once ma...   \n",
      "3      US  This spent 20 months in 30% new French oak, an...   \n",
      "4  France  This is the top wine from La Bégude, named aft...   \n",
      "\n",
      "                            designation  points  price        province  \\\n",
      "0                     Martha's Vineyard      96  235.0      California   \n",
      "1  Carodorum Selección Especial Reserva      96  110.0  Northern Spain   \n",
      "2         Special Selected Late Harvest      96   90.0      California   \n",
      "3                               Reserve      96   65.0          Oregon   \n",
      "4                            La Brûlade      95   66.0        Provence   \n",
      "\n",
      "            region_1           region_2             variety  \\\n",
      "0        Napa Valley               Napa  Cabernet Sauvignon   \n",
      "1               Toro                NaN       Tinta de Toro   \n",
      "2     Knights Valley             Sonoma     Sauvignon Blanc   \n",
      "3  Willamette Valley  Willamette Valley          Pinot Noir   \n",
      "4             Bandol                NaN  Provence red blend   \n",
      "\n",
      "                    winery  \n",
      "0                    Heitz  \n",
      "1  Bodega Carmen Rodríguez  \n",
      "2                 Macauley  \n",
      "3                    Ponzi  \n",
      "4     Domaine de la Bégude  \n",
      "--------------------------------------------------\n",
      "Dimensiones: 150,930 filas y 10 columnas.\n",
      "\n",
      "--- Tipos de Datos y Valores Faltantes (review.info()) ---\n",
      "<class 'pandas.core.frame.DataFrame'>\n",
      "RangeIndex: 150930 entries, 0 to 150929\n",
      "Data columns (total 10 columns):\n",
      " #   Column       Non-Null Count   Dtype  \n",
      "---  ------       --------------   -----  \n",
      " 0   country      150925 non-null  object \n",
      " 1   description  150930 non-null  object \n",
      " 2   designation  105195 non-null  object \n",
      " 3   points       150930 non-null  int64  \n",
      " 4   price        137235 non-null  float64\n",
      " 5   province     150925 non-null  object \n",
      " 6   region_1     125870 non-null  object \n",
      " 7   region_2     60953 non-null   object \n",
      " 8   variety      150930 non-null  object \n",
      " 9   winery       150930 non-null  object \n",
      "dtypes: float64(1), int64(1), object(8)\n",
      "memory usage: 11.5+ MB\n"
     ]
    }
   ],
   "source": [
    "import pandas as pd\n",
    "\n",
    "# ¡IMPORTANTE! Cambiamos el nombre del archivo a la versión de 150k\n",
    "# La ruta asume que el archivo está en la subcarpeta 'data'\n",
    "file_path = './data/winemag-data_first150k.csv'\n",
    "\n",
    "# Cargar el archivo en el DataFrame llamado 'review'\n",
    "try:\n",
    "    review = pd.read_csv(file_path)\n",
    "\n",
    "    # 1. Limpieza: Eliminar la columna 'Unnamed: 0' si existe\n",
    "    if 'Unnamed: 0' in review.columns:\n",
    "        review = review.drop('Unnamed: 0', axis=1)\n",
    "\n",
    "    # 2. Visualización (similar a la Figura 40)\n",
    "    print(\"--- DataFrame 'review' cargado con la versión 150k ---\")\n",
    "    print(review.head())\n",
    "    print(\"-\" * 50)\n",
    "    print(f\"Dimensiones: {review.shape[0]:,} filas y {review.shape[1]} columnas.\")\n",
    "    \n",
    "    # 3. Información detallada\n",
    "    print(\"\\n--- Tipos de Datos y Valores Faltantes (review.info()) ---\")\n",
    "    review.info()\n",
    "\n",
    "except FileNotFoundError:\n",
    "    print(f\"¡ERROR! Archivo no encontrado en la ruta: {file_path}\")\n",
    "    print(\"Por favor, asegúrate de que el archivo 'winemag-data_first150k.csv' esté en la carpeta 'data'.\")"
   ]
  },
  {
   "cell_type": "markdown",
   "id": "30c88fee",
   "metadata": {},
   "source": [
    "**PUNTO 5:** Visualización de las primeras filas del DataFrame"
   ]
  },
  {
   "cell_type": "code",
   "execution_count": 8,
   "id": "b580d83d",
   "metadata": {},
   "outputs": [
    {
     "name": "stdout",
     "output_type": "stream",
     "text": [
      "\n",
      "--- Figura 41: Visualización de las primeras filas (review.head()) ---\n",
      "    country                                        description  \\\n",
      "0     Italy  Aromas include tropical fruit, broom, brimston...   \n",
      "1  Portugal  This is ripe and fruity, a wine that is smooth...   \n",
      "2        US  Tart and snappy, the flavors of lime flesh and...   \n",
      "3        US  Pineapple rind, lemon pith and orange blossom ...   \n",
      "4        US  Much like the regular bottling from 2012, this...   \n",
      "\n",
      "                          designation  points  price           province  \\\n",
      "0                        Vulkà Bianco      87    NaN  Sicily & Sardinia   \n",
      "1                            Avidagos      87   15.0              Douro   \n",
      "2                                 NaN      87   14.0             Oregon   \n",
      "3                Reserve Late Harvest      87   13.0           Michigan   \n",
      "4  Vintner's Reserve Wild Child Block      87   65.0             Oregon   \n",
      "\n",
      "              region_1           region_2         taster_name  \\\n",
      "0                 Etna                NaN       Kerin O’Keefe   \n",
      "1                  NaN                NaN          Roger Voss   \n",
      "2    Willamette Valley  Willamette Valley        Paul Gregutt   \n",
      "3  Lake Michigan Shore                NaN  Alexander Peartree   \n",
      "4    Willamette Valley  Willamette Valley        Paul Gregutt   \n",
      "\n",
      "  taster_twitter_handle                                              title  \\\n",
      "0          @kerinokeefe                  Nicosia 2013 Vulkà Bianco  (Etna)   \n",
      "1            @vossroger      Quinta dos Avidagos 2011 Avidagos Red (Douro)   \n",
      "2           @paulgwine       Rainstorm 2013 Pinot Gris (Willamette Valley)   \n",
      "3                   NaN  St. Julian 2013 Reserve Late Harvest Riesling ...   \n",
      "4           @paulgwine   Sweet Cheeks 2012 Vintner's Reserve Wild Child...   \n",
      "\n",
      "          variety               winery  \n",
      "0     White Blend              Nicosia  \n",
      "1  Portuguese Red  Quinta dos Avidagos  \n",
      "2      Pinot Gris            Rainstorm  \n",
      "3        Riesling           St. Julian  \n",
      "4      Pinot Noir         Sweet Cheeks  \n",
      "------------------------------------------------------------\n",
      "Dimensiones del DataFrame: 129,971 filas y 13 columnas.\n"
     ]
    }
   ],
   "source": [
    "# Visualiza las primeras 5 filas del DataFrame 'review'\n",
    "print(\"\\n--- Figura 41: Visualización de las primeras filas (review.head()) ---\")\n",
    "print(review.head())\n",
    "\n",
    "# Opcional: Para obtener la información de filas/columnas como en la parte inferior de la Figura 40.\n",
    "print(\"-\" * 60)\n",
    "print(f\"Dimensiones del DataFrame: {review.shape[0]:,} filas y {review.shape[1]} columnas.\")"
   ]
  },
  {
   "cell_type": "markdown",
   "id": "5fc3b0cd",
   "metadata": {},
   "source": [
    "**PUNTO 6:** Utilización del método .info()"
   ]
  },
  {
   "cell_type": "code",
   "execution_count": 9,
   "id": "f8a327f0",
   "metadata": {},
   "outputs": [
    {
     "name": "stdout",
     "output_type": "stream",
     "text": [
      "--- Resultado de review.info() ---\n",
      "<class 'pandas.core.frame.DataFrame'>\n",
      "RangeIndex: 129971 entries, 0 to 129970\n",
      "Data columns (total 13 columns):\n",
      " #   Column                 Non-Null Count   Dtype  \n",
      "---  ------                 --------------   -----  \n",
      " 0   country                129908 non-null  object \n",
      " 1   description            129971 non-null  object \n",
      " 2   designation            92506 non-null   object \n",
      " 3   points                 129971 non-null  int64  \n",
      " 4   price                  120975 non-null  float64\n",
      " 5   province               129908 non-null  object \n",
      " 6   region_1               108724 non-null  object \n",
      " 7   region_2               50511 non-null   object \n",
      " 8   taster_name            103727 non-null  object \n",
      " 9   taster_twitter_handle  98758 non-null   object \n",
      " 10  title                  129971 non-null  object \n",
      " 11  variety                129970 non-null  object \n",
      " 12  winery                 129971 non-null  object \n",
      "dtypes: float64(1), int64(1), object(11)\n",
      "memory usage: 12.9+ MB\n"
     ]
    }
   ],
   "source": [
    "# Muestra un resumen conciso del DataFrame\n",
    "print(\"--- Resultado de review.info() ---\")\n",
    "review.info()"
   ]
  },
  {
   "cell_type": "markdown",
   "id": "a6cdaf87",
   "metadata": {},
   "source": [
    "**PUNTO 7:** ¿Cuál es el precio promedio?"
   ]
  },
  {
   "cell_type": "code",
   "execution_count": 11,
   "id": "4982e6f7",
   "metadata": {},
   "outputs": [
    {
     "name": "stdout",
     "output_type": "stream",
     "text": [
      "El precio promedio de los vinos en el dataset es: $35.36 USD\n"
     ]
    }
   ],
   "source": [
    "# Calcular el precio promedio de la columna 'price'\n",
    "# Pandas ignora automáticamente los valores nulos (NaN) al calcular el promedio.\n",
    "average_price = review['price'].mean()\n",
    "\n",
    "# Imprimir el resultado\n",
    "print(f\"El precio promedio de los vinos en el dataset es: ${average_price:.2f} USD\")"
   ]
  },
  {
   "cell_type": "markdown",
   "id": "951ccdd9",
   "metadata": {},
   "source": [
    "**PUNTO 8:** ¿Cuál es el precio más alto pagado?"
   ]
  },
  {
   "cell_type": "code",
   "execution_count": 13,
   "id": "55bff167",
   "metadata": {},
   "outputs": [
    {
     "name": "stdout",
     "output_type": "stream",
     "text": [
      "El precio más alto pagado por un vino en el dataset es: $3300.00 USD\n"
     ]
    }
   ],
   "source": [
    "# Encontrar el valor máximo en la columna 'price'\n",
    "highest_price = review['price'].max()\n",
    "\n",
    "# Imprimir el resultado\n",
    "print(f\"El precio más alto pagado por un vino en el dataset es: ${highest_price:.2f} USD\")"
   ]
  },
  {
   "cell_type": "markdown",
   "id": "9b208bce",
   "metadata": {},
   "source": [
    "**PUNTO 9:** Creación de un DataFrame con todos los vinos de california"
   ]
  },
  {
   "cell_type": "code",
   "execution_count": 14,
   "id": "33fa83e9",
   "metadata": {},
   "outputs": [
    {
     "name": "stdout",
     "output_type": "stream",
     "text": [
      "--- DataFrame 'california_wines' (Salida Esperada: Figura 42) ---\n",
      "   country                                        description  \\\n",
      "10      US  Soft, supple plum envelopes an oaky structure ...   \n",
      "12      US  Slightly reduced, this wine offers a chalky, t...   \n",
      "14      US  Building on 150 years and six generations of w...   \n",
      "23      US  This wine from the Geneseo district offers aro...   \n",
      "25      US  Oak and earth intermingle around robust aromas...   \n",
      "29      US  Clarksburg is becoming a haven for Chenin Blan...   \n",
      "33      US  Rustic and dry, this has flavors of berries, c...   \n",
      "\n",
      "              designation  points  price    province          region_1  \\\n",
      "10         Mountain Cuvée      87   19.0  California       Napa Valley   \n",
      "12                    NaN      87   34.0  California  Alexander Valley   \n",
      "14                    NaN      87   12.0  California     Central Coast   \n",
      "23    Signature Selection      87   22.0  California       Paso Robles   \n",
      "25    King Ridge Vineyard      87   69.0  California      Sonoma Coast   \n",
      "29                    NaN      86   16.0  California        Clarksburg   \n",
      "33  Puma Springs Vineyard      86   50.0  California  Dry Creek Valley   \n",
      "\n",
      "          region_2     taster_name taster_twitter_handle  \\\n",
      "10            Napa  Virginie Boone               @vboone   \n",
      "12          Sonoma  Virginie Boone               @vboone   \n",
      "14   Central Coast   Matt Kettmann         @mattkettmann   \n",
      "23   Central Coast   Matt Kettmann         @mattkettmann   \n",
      "25          Sonoma  Virginie Boone               @vboone   \n",
      "29  Central Valley  Virginie Boone               @vboone   \n",
      "33          Sonoma             NaN                   NaN   \n",
      "\n",
      "                                                title             variety  \\\n",
      "10  Kirkland Signature 2011 Mountain Cuvée Caberne...  Cabernet Sauvignon   \n",
      "12  Louis M. Martini 2012 Cabernet Sauvignon (Alex...  Cabernet Sauvignon   \n",
      "14           Mirassou 2012 Chardonnay (Central Coast)          Chardonnay   \n",
      "23  Bianchi 2011 Signature Selection Merlot (Paso ...              Merlot   \n",
      "25  Castello di Amorosa 2011 King Ridge Vineyard P...          Pinot Noir   \n",
      "29  Clarksburg Wine Company 2010 Chenin Blanc (Cla...        Chenin Blanc   \n",
      "33  Envolve 2010 Puma Springs Vineyard Red (Dry Cr...           Red Blend   \n",
      "\n",
      "                     winery  \n",
      "10       Kirkland Signature  \n",
      "12         Louis M. Martini  \n",
      "14                 Mirassou  \n",
      "23                  Bianchi  \n",
      "25      Castello di Amorosa  \n",
      "29  Clarksburg Wine Company  \n",
      "33                  Envolve  \n",
      "------------------------------------------------------------\n",
      "Dimensiones del nuevo DataFrame: 36,247 filas y 13 columnas.\n"
     ]
    }
   ],
   "source": [
    "import pandas as pd\n",
    "\n",
    "# 1. Definir la condición de filtrado\n",
    "# Queremos seleccionar solo las filas donde la columna 'province' es igual a 'California'\n",
    "condition = review['province'] == 'California'\n",
    "\n",
    "# 2. Aplicar el filtro para crear el nuevo DataFrame\n",
    "# Usamos loc[] para seleccionar todas las filas (:) que cumplen la condición.\n",
    "california_wines = review.loc[condition]\n",
    "\n",
    "# 3. Visualizar el resultado (similar a la Figura 42)\n",
    "print(\"--- DataFrame 'california_wines' (Salida Esperada: Figura 42) ---\")\n",
    "print(california_wines.head(7)) # Mostrar más filas para reflejar la imagen\n",
    "print(\"-\" * 60)\n",
    "print(f\"Dimensiones del nuevo DataFrame: {california_wines.shape[0]:,} filas y {california_wines.shape[1]} columnas.\")"
   ]
  },
  {
   "cell_type": "markdown",
   "id": "cb46b300",
   "metadata": {},
   "source": [
    "**PUNTO 10:** idxmax() para enocontrar el indice del vino"
   ]
  },
  {
   "cell_type": "code",
   "execution_count": 15,
   "id": "7b8c7df0",
   "metadata": {},
   "outputs": [
    {
     "name": "stdout",
     "output_type": "stream",
     "text": [
      "El vino más caro de California es:\n",
      "country                                                                 US\n",
      "description              The nose on this single-vineyard wine from a s...\n",
      "designation                                            Roger Rose Vineyard\n",
      "points                                                                  91\n",
      "price                                                               2013.0\n",
      "province                                                        California\n",
      "region_1                                                       Arroyo Seco\n",
      "region_2                                                     Central Coast\n",
      "taster_name                                                  Matt Kettmann\n",
      "taster_twitter_handle                                        @mattkettmann\n",
      "title                    Blair 2013 Roger Rose Vineyard Chardonnay (Arr...\n",
      "variety                                                         Chardonnay\n",
      "winery                                                               Blair\n",
      "Name: 120391, dtype: object\n",
      "\n",
      "Índice: 120391, Precio: $2013.00\n"
     ]
    }
   ],
   "source": [
    "# Asumimos que 'california_wines' ya fue creado y contiene solo vinos de California.\n",
    "\n",
    "# 1. Encontrar el índice (fila) del precio más alto\n",
    "# .idxmax() devuelve el índice de la primera aparición del valor máximo.\n",
    "most_expensive_index = california_wines['price'].idxmax()\n",
    "\n",
    "# 2. Utilizar .loc[] con ese índice para obtener toda la información de la fila\n",
    "# Seleccionamos la fila completa del vino más caro del DataFrame de California\n",
    "most_expensive_wine = california_wines.loc[most_expensive_index]\n",
    "\n",
    "# 3. Visualizar el resultado (similar a la Figura 43)\n",
    "print(\"El vino más caro de California es:\")\n",
    "print(most_expensive_wine)\n",
    "\n",
    "# Opcional: Mostrar el índice y el precio para confirmar\n",
    "print(f\"\\nÍndice: {most_expensive_index}, Precio: ${most_expensive_wine['price']:.2f}\")"
   ]
  },
  {
   "cell_type": "markdown",
   "id": "bb963e96",
   "metadata": {},
   "source": [
    "**PUNTO 11:** ¿Cuáles son los tipos de uvas más comunes en california?"
   ]
  },
  {
   "cell_type": "code",
   "execution_count": 16,
   "id": "98d2bfd4",
   "metadata": {},
   "outputs": [
    {
     "name": "stdout",
     "output_type": "stream",
     "text": [
      "--- Figura 44: Tipos de Uva más Comunes en California ---\n",
      "variety\n",
      "Pinot Noir             6896\n",
      "Cabernet Sauvignon     5693\n",
      "Chardonnay             5183\n",
      "Zinfandel              2639\n",
      "Syrah                  1870\n",
      "                       ... \n",
      "Prosecco                  1\n",
      "Tannat-Syrah              1\n",
      "Rosado                    1\n",
      "Muscat d'Alexandrie       1\n",
      "Alvarinho                 1\n",
      "Name: count, Length: 194, dtype: int64\n",
      "\n",
      "Total de variedades distintas en California: 194\n"
     ]
    }
   ],
   "source": [
    "# Asumimos que 'california_wines' ya fue creado.\n",
    "\n",
    "# 1. Seleccionar la columna 'variety' del DataFrame de California\n",
    "california_varieties = california_wines['variety']\n",
    "\n",
    "# 2. Contar la frecuencia de cada tipo de uva\n",
    "# .value_counts() cuenta las ocurrencias de cada valor único\n",
    "# y las ordena automáticamente de forma descendente.\n",
    "most_common_varieties = california_varieties.value_counts()\n",
    "\n",
    "# 3. Visualizar el resultado (similar a la Figura 44)\n",
    "print(\"--- Figura 44: Tipos de Uva más Comunes en California ---\")\n",
    "print(most_common_varieties)\n",
    "\n",
    "# Opcional: Mostrar el total de variedades distintas\n",
    "print(f\"\\nTotal de variedades distintas en California: {len(most_common_varieties)}\")"
   ]
  },
  {
   "cell_type": "markdown",
   "id": "d6b4098d",
   "metadata": {},
   "source": [
    "**PUNTO 12:** ¿Cuáles son los 10 tipos de uva más comunes en California?"
   ]
  },
  {
   "cell_type": "code",
   "execution_count": 17,
   "id": "13341654",
   "metadata": {},
   "outputs": [
    {
     "name": "stdout",
     "output_type": "stream",
     "text": [
      "--- Figura 45: Los 10 Tipos de Uva Más Comunes en California ---\n",
      "variety\n",
      "Pinot Noir                  6896\n",
      "Cabernet Sauvignon          5693\n",
      "Chardonnay                  5183\n",
      "Zinfandel                   2639\n",
      "Syrah                       1870\n",
      "Sauvignon Blanc             1807\n",
      "Red Blend                   1804\n",
      "Merlot                      1391\n",
      "Bordeaux-style Red Blend     876\n",
      "Petite Sirah                 694\n",
      "Name: count, dtype: int64\n"
     ]
    }
   ],
   "source": [
    "# 1. Contar la frecuencia de cada tipo de uva en California\n",
    "# El método .value_counts() ordena automáticamente de mayor a menor.\n",
    "most_common_varieties = california_wines['variety'].value_counts()\n",
    "\n",
    "# 2. Seleccionar las 10 primeras entradas (las más comunes)\n",
    "top_10_varieties = most_common_varieties.head(10)\n",
    "\n",
    "# 3. Visualizar el resultado (similar a la Figura 45)\n",
    "print(\"--- Figura 45: Los 10 Tipos de Uva Más Comunes en California ---\")\n",
    "print(top_10_varieties)"
   ]
  }
 ],
 "metadata": {
  "kernelspec": {
   "display_name": "Python 3",
   "language": "python",
   "name": "python3"
  },
  "language_info": {
   "codemirror_mode": {
    "name": "ipython",
    "version": 3
   },
   "file_extension": ".py",
   "mimetype": "text/x-python",
   "name": "python",
   "nbconvert_exporter": "python",
   "pygments_lexer": "ipython3",
   "version": "3.12.1"
  }
 },
 "nbformat": 4,
 "nbformat_minor": 5
}
