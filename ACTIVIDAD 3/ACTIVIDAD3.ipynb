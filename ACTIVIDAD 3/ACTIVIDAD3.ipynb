{
 "cells": [
  {
   "cell_type": "markdown",
   "id": "8dbb8bfe",
   "metadata": {},
   "source": [
    "EVIDENCIA DE APRENDIZAJE 3:\n",
    "\n",
    "MALENIA JURANY CIFUENTES ALVAREZ CC:1123309582 , MARIA JOSÉ TOVAR PATERNINA CC:1005584586\n",
    "\n",
    "Analítica de Datos (andres felipe callejas) - PREICA2502B010096"
   ]
  },
  {
   "cell_type": "markdown",
   "id": "0d4de1c1",
   "metadata": {},
   "source": [
    "**PUNTO 1:** Crear un dataset de frutas "
   ]
  },
  {
   "cell_type": "code",
   "execution_count": 10,
   "id": "54bec971",
   "metadata": {},
   "outputs": [
    {
     "name": "stdout",
     "output_type": "stream",
     "text": [
      "   Granadilla  Tomates  Naranjas  Sandia  Maracuyá  fresa\n",
      "0          20       50        80      40        10      3\n",
      "1          35       40        75      70        20     65\n",
      "2          12       60        90      35        65     45\n",
      "3          45       55        85      20        43     32\n",
      "4          28       65        92      50         8     12\n"
     ]
    }
   ],
   "source": [
    "import pandas as pd\n",
    "\n",
    "# Creamos un diccionario con los datos\n",
    "datos = {\n",
    "    'Granadilla': [20, 35, 12, 45, 28],\n",
    "    'Tomates': [50, 40, 60, 55, 65],\n",
    "    'Naranjas': [80, 75, 90, 85, 92],\n",
    "    'Sandia': [40, 70, 35, 20, 50],\n",
    "    'Maracuyá': [10, 20, 65, 43, 8],\n",
    "    'fresa': [3, 65, 45, 32, 12],\n",
    "\n",
    "}\n",
    "\n",
    "# Creamos el DataFrame a partir del diccionario\n",
    "frutas = pd.DataFrame(datos)\n",
    "\n",
    "# Imprimimos el DataFrame para verificar el resultado\n",
    "print(frutas) "
   ]
  },
  {
   "cell_type": "markdown",
   "id": "0063ec35",
   "metadata": {},
   "source": [
    "**PUNTO 2:** "
   ]
  },
  {
   "cell_type": "code",
   "execution_count": 13,
   "id": "74684739",
   "metadata": {},
   "outputs": [
    {
     "name": "stdout",
     "output_type": "stream",
     "text": [
      "Datos de ventas por mes 2025:\n",
      "              Granadilla  Tomates  Naranjas  Sandia  Maracuyá  fresa\n",
      "Enero 2025            20       50        80      40        10      3\n",
      "Febrero 2025          35       40        75      70        20     65\n",
      "Marzo 2025            12       60        90      35        65     45\n",
      "Abril 2025            45       55        85      20        43     32\n",
      "Mayo 2025             28       65        92      50         8     12\n",
      "\n",
      "Suma de ventas por mes:\n",
      "Enero 2025      203\n",
      "Febrero 2025    305\n",
      "Marzo 2025      307\n",
      "Abril 2025      280\n",
      "Mayo 2025       255\n",
      "dtype: int64\n"
     ]
    }
   ],
   "source": [
    "import pandas as pd\n",
    "\n",
    "# Creamos el DataFrame ventas_frutas\n",
    "datos = {\n",
    "    'Granadilla': [20, 35, 12, 45, 28],\n",
    "    'Tomates': [50, 40, 60, 55, 65],\n",
    "    'Naranjas': [80, 75, 90, 85, 92],\n",
    "    'Sandia': [40, 70, 35, 20, 50],\n",
    "    'Maracuyá': [10, 20, 65, 43, 8],\n",
    "    'fresa': [3, 65, 45, 32, 12],\n",
    "}\n",
    "\n",
    "indice = ['Enero 2025', 'Febrero 2025', 'Marzo 2025', 'Abril 2025', 'Mayo 2025']\n",
    "\n",
    "ventas_frutas = pd.DataFrame(datos, index=indice)\n",
    "\n",
    "# Calculamos la suma de cada fila (por año)\n",
    "total_mensual = ventas_frutas.sum(axis=1)\n",
    "\n",
    "# Imprimimos el resultado\n",
    "print(\"Datos de ventas por mes 2025:\")\n",
    "print(ventas_frutas)\n",
    "print(\"\\nSuma de ventas por mes:\")\n",
    "print(total_mensual)"
   ]
  }
 ],
 "metadata": {
  "kernelspec": {
   "display_name": "Python 3",
   "language": "python",
   "name": "python3"
  },
  "language_info": {
   "codemirror_mode": {
    "name": "ipython",
    "version": 3
   },
   "file_extension": ".py",
   "mimetype": "text/x-python",
   "name": "python",
   "nbconvert_exporter": "python",
   "pygments_lexer": "ipython3",
   "version": "3.12.1"
  }
 },
 "nbformat": 4,
 "nbformat_minor": 5
}
