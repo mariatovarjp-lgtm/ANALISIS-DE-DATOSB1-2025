{
 "cells": [
  {
   "cell_type": "markdown",
   "id": "8dbb8bfe",
   "metadata": {},
   "source": [
    "EVIDENCIA DE APRENDIZAJE 3:\n",
    "\n",
    "MALENIA JURANY CIFUENTES ALVAREZ CC:1123309582 , MARIA JOSÉ TOVAR PATERNINA CC:1005584586\n",
    "\n",
    "Analítica de Datos (andres felipe callejas) - PREICA2502B010096"
   ]
  },
  {
   "cell_type": "markdown",
   "id": "0d4de1c1",
   "metadata": {},
   "source": [
    "**PUNTO 1:** Creación DataFrame de frutas."
   ]
  },
  {
   "cell_type": "code",
   "execution_count": 18,
   "id": "54bec971",
   "metadata": {},
   "outputs": [
    {
     "name": "stdout",
     "output_type": "stream",
     "text": [
      "   Granadilla  Tomates  Naranjas  Sandia  Maracuyá  fresa\n",
      "0          20       50        80      40        10      3\n",
      "1          35       40        75      70        20     65\n",
      "2          12       60        90      35        65     45\n",
      "3          45       55        85      20        43     32\n",
      "4          28       65        92      50         8     12\n"
     ]
    }
   ],
   "source": [
    "#importamos librerias\n",
    "import pandas as pd\n",
    "\n",
    "# Creamos un diccionario con los datos\n",
    "datos = {\n",
    "    'Granadilla': [20, 35, 12, 45, 28],\n",
    "    'Tomates': [50, 40, 60, 55, 65],\n",
    "    'Naranjas': [80, 75, 90, 85, 92],\n",
    "    'Sandia': [40, 70, 35, 20, 50],\n",
    "    'Maracuyá': [10, 20, 65, 43, 8],\n",
    "    'fresa': [3, 65, 45, 32, 12],\n",
    "\n",
    "}\n",
    "\n",
    "# Creamos el DataFrame a partir del diccionario anterior \n",
    "frutas = pd.DataFrame(datos)\n",
    "\n",
    "# Imprimimos el DataFrame\n",
    "print(frutas) "
   ]
  },
  {
   "cell_type": "markdown",
   "id": "0063ec35",
   "metadata": {},
   "source": [
    "**PUNTO 2:** Creación DataFrame Ventas_Frutas"
   ]
  },
  {
   "cell_type": "code",
   "execution_count": 20,
   "id": "74684739",
   "metadata": {},
   "outputs": [
    {
     "name": "stdout",
     "output_type": "stream",
     "text": [
      "ventas de frutas por mes 2025:\n",
      "              Granadilla  Tomates  Naranjas  Sandia  Maracuyá  fresa\n",
      "Enero 2025            20       50        80      40        10      3\n",
      "Febrero 2025          35       40        75      70        20     65\n",
      "Marzo 2025            12       60        90      35        65     45\n",
      "Abril 2025            45       55        85      20        43     32\n",
      "Mayo 2025             28       65        92      50         8     12\n",
      "\n",
      "Total de ventas por mes:\n",
      "Enero 2025      203\n",
      "Febrero 2025    305\n",
      "Marzo 2025      307\n",
      "Abril 2025      280\n",
      "Mayo 2025       255\n",
      "dtype: int64\n"
     ]
    }
   ],
   "source": [
    "#importamos librerias\n",
    "import pandas as pd\n",
    "\n",
    "# Creamos el DataFrame ventas_frutas con los siguientes datos:\n",
    "datos = {\n",
    "    'Granadilla': [20, 35, 12, 45, 28],\n",
    "    'Tomates': [50, 40, 60, 55, 65],\n",
    "    'Naranjas': [80, 75, 90, 85, 92],\n",
    "    'Sandia': [40, 70, 35, 20, 50],\n",
    "    'Maracuyá': [10, 20, 65, 43, 8],\n",
    "    'fresa': [3, 65, 45, 32, 12],\n",
    "}\n",
    "indice = ['Enero 2025', 'Febrero 2025', 'Marzo 2025', 'Abril 2025', 'Mayo 2025']\n",
    "\n",
    "ventas_frutas = pd.DataFrame(datos, index=indice)\n",
    "\n",
    "# Calculamos la suma de cada fila (por año)\n",
    "total_mensual = ventas_frutas.sum(axis=1)\n",
    "\n",
    "# Imprimimos el resultado\n",
    "print(\"ventas de frutas por mes 2025:\")\n",
    "print(ventas_frutas)\n",
    "print(\"\\nTotal de ventas por mes:\")\n",
    "print(total_mensual)"
   ]
  },
  {
   "cell_type": "markdown",
   "id": "8fc05a8b",
   "metadata": {},
   "source": [
    "**PUNTO 3:** Ceación de variable utensilios"
   ]
  },
  {
   "cell_type": "code",
   "execution_count": 26,
   "id": "3152dd5b",
   "metadata": {},
   "outputs": [
    {
     "name": "stdout",
     "output_type": "stream",
     "text": [
      "utensilios de cocina\n",
      "Cuchara     3 unidades\n",
      "Tenedor     2 unidades\n",
      "Cuchillo    4 unidades\n",
      "Plato       5 unidades\n",
      "vaso        8 unidades\n",
      "sartenes    4 unidades\n",
      "Name: Cocina, dtype: object\n"
     ]
    }
   ],
   "source": [
    "import pandas as pd\n",
    "\n",
    "# Creamos un diccionario con los datos y sus respectivos índices\n",
    "datos_utensilios = {\n",
    "    'Cuchara': '3 unidades',\n",
    "    'Tenedor': '2 unidades',\n",
    "    'Cuchillo': '4 unidades',\n",
    "    'Plato': '5 unidades',\n",
    "    'vaso' : '8 unidades',\n",
    "    'sartenes' : '4 unidades'\n",
    "}\n",
    "\n",
    "# Creamos la Serie de pandas (datos y el nombre)\n",
    "utensilios = pd.Series(datos_utensilios, name='Cocina')\n",
    "\n",
    "# Imprimimos los resultados\n",
    "print(\"utensilios de cocina\")\n",
    "print(utensilios)"
   ]
  },
  {
   "cell_type": "markdown",
   "id": "ab624b7c",
   "metadata": {},
   "source": [
    "**PUNTO 4:** Descarga el dataset 'wine review' desde Kaggle y cárgalo en un DataFrame llamado review"
   ]
  },
  {
   "cell_type": "code",
   "execution_count": 5,
   "id": "0ef93494",
   "metadata": {},
   "outputs": [
    {
     "name": "stdout",
     "output_type": "stream",
     "text": [
      "--- DataFrame 'review' cargado con la versión 150k ---\n",
      "  country                                        description  \\\n",
      "0      US  This tremendous 100% varietal wine hails from ...   \n",
      "1   Spain  Ripe aromas of fig, blackberry and cassis are ...   \n",
      "2      US  Mac Watson honors the memory of a wine once ma...   \n",
      "3      US  This spent 20 months in 30% new French oak, an...   \n",
      "4  France  This is the top wine from La Bégude, named aft...   \n",
      "\n",
      "                            designation  points  price        province  \\\n",
      "0                     Martha's Vineyard      96  235.0      California   \n",
      "1  Carodorum Selección Especial Reserva      96  110.0  Northern Spain   \n",
      "2         Special Selected Late Harvest      96   90.0      California   \n",
      "3                               Reserve      96   65.0          Oregon   \n",
      "4                            La Brûlade      95   66.0        Provence   \n",
      "\n",
      "            region_1           region_2             variety  \\\n",
      "0        Napa Valley               Napa  Cabernet Sauvignon   \n",
      "1               Toro                NaN       Tinta de Toro   \n",
      "2     Knights Valley             Sonoma     Sauvignon Blanc   \n",
      "3  Willamette Valley  Willamette Valley          Pinot Noir   \n",
      "4             Bandol                NaN  Provence red blend   \n",
      "\n",
      "                    winery  \n",
      "0                    Heitz  \n",
      "1  Bodega Carmen Rodríguez  \n",
      "2                 Macauley  \n",
      "3                    Ponzi  \n",
      "4     Domaine de la Bégude  \n",
      "--------------------------------------------------\n",
      "Dimensiones: 150,930 filas y 10 columnas.\n",
      "\n",
      "--- Tipos de Datos y Valores Faltantes (review.info()) ---\n",
      "<class 'pandas.core.frame.DataFrame'>\n",
      "RangeIndex: 150930 entries, 0 to 150929\n",
      "Data columns (total 10 columns):\n",
      " #   Column       Non-Null Count   Dtype  \n",
      "---  ------       --------------   -----  \n",
      " 0   country      150925 non-null  object \n",
      " 1   description  150930 non-null  object \n",
      " 2   designation  105195 non-null  object \n",
      " 3   points       150930 non-null  int64  \n",
      " 4   price        137235 non-null  float64\n",
      " 5   province     150925 non-null  object \n",
      " 6   region_1     125870 non-null  object \n",
      " 7   region_2     60953 non-null   object \n",
      " 8   variety      150930 non-null  object \n",
      " 9   winery       150930 non-null  object \n",
      "dtypes: float64(1), int64(1), object(8)\n",
      "memory usage: 11.5+ MB\n"
     ]
    }
   ],
   "source": [
    "import pandas as pd\n",
    "\n",
    "# ¡IMPORTANTE! Cambiamos el nombre del archivo a la versión de 150k\n",
    "# La ruta asume que el archivo está en la subcarpeta 'data'\n",
    "file_path = './data/winemag-data_first150k.csv'\n",
    "\n",
    "# Cargar el archivo en el DataFrame llamado 'review'\n",
    "try:\n",
    "    review = pd.read_csv(file_path)\n",
    "\n",
    "    # 1. Limpieza: Eliminar la columna 'Unnamed: 0' si existe\n",
    "    if 'Unnamed: 0' in review.columns:\n",
    "        review = review.drop('Unnamed: 0', axis=1)\n",
    "\n",
    "    # 2. Visualización (similar a la Figura 40)\n",
    "    print(\"--- DataFrame 'review' cargado con la versión 150k ---\")\n",
    "    print(review.head())\n",
    "    print(\"-\" * 50)\n",
    "    print(f\"Dimensiones: {review.shape[0]:,} filas y {review.shape[1]} columnas.\")\n",
    "    \n",
    "    # 3. Información detallada\n",
    "    print(\"\\n--- Tipos de Datos y Valores Faltantes (review.info()) ---\")\n",
    "    review.info()\n",
    "\n",
    "except FileNotFoundError:\n",
    "    print(f\"¡ERROR! Archivo no encontrado en la ruta: {file_path}\")\n",
    "    print(\"Por favor, asegúrate de que el archivo 'winemag-data_first150k.csv' esté en la carpeta 'data'.\")"
   ]
  },
  {
   "cell_type": "markdown",
   "id": "30c88fee",
   "metadata": {},
   "source": [
    "**PUNTO 5:** Visualización de las primeras filas del DataFrame"
   ]
  },
  {
   "cell_type": "code",
   "execution_count": 10,
   "id": "b580d83d",
   "metadata": {},
   "outputs": [
    {
     "name": "stdout",
     "output_type": "stream",
     "text": [
      "\n",
      "Visualización de las primeras filas\n",
      "  country                                        description  \\\n",
      "0      US  This tremendous 100% varietal wine hails from ...   \n",
      "1   Spain  Ripe aromas of fig, blackberry and cassis are ...   \n",
      "2      US  Mac Watson honors the memory of a wine once ma...   \n",
      "3      US  This spent 20 months in 30% new French oak, an...   \n",
      "4  France  This is the top wine from La Bégude, named aft...   \n",
      "\n",
      "                            designation  points  price        province  \\\n",
      "0                     Martha's Vineyard      96  235.0      California   \n",
      "1  Carodorum Selección Especial Reserva      96  110.0  Northern Spain   \n",
      "2         Special Selected Late Harvest      96   90.0      California   \n",
      "3                               Reserve      96   65.0          Oregon   \n",
      "4                            La Brûlade      95   66.0        Provence   \n",
      "\n",
      "            region_1           region_2             variety  \\\n",
      "0        Napa Valley               Napa  Cabernet Sauvignon   \n",
      "1               Toro                NaN       Tinta de Toro   \n",
      "2     Knights Valley             Sonoma     Sauvignon Blanc   \n",
      "3  Willamette Valley  Willamette Valley          Pinot Noir   \n",
      "4             Bandol                NaN  Provence red blend   \n",
      "\n",
      "                    winery  \n",
      "0                    Heitz  \n",
      "1  Bodega Carmen Rodríguez  \n",
      "2                 Macauley  \n",
      "3                    Ponzi  \n",
      "4     Domaine de la Bégude  \n",
      "-----\n",
      "Dimensiones del DataFrame: 150,930 filas y 10 columnas.\n"
     ]
    }
   ],
   "source": [
    "# Visualización de las primeras 5 filas del DataFrame 'review'\n",
    "print(\"\\nVisualización de las primeras filas\")\n",
    "print(review.head())\n",
    "\n",
    "# obtención de la información filas/columnas\n",
    "print(\"-\" * 5)\n",
    "print(f\"Dimensiones del DataFrame: {review.shape[0]:,} filas y {review.shape[1]} columnas.\")"
   ]
  },
  {
   "cell_type": "markdown",
   "id": "5fc3b0cd",
   "metadata": {},
   "source": [
    "**PUNTO 6:** Utilización del método .info()"
   ]
  },
  {
   "cell_type": "code",
   "execution_count": 11,
   "id": "f8a327f0",
   "metadata": {},
   "outputs": [
    {
     "name": "stdout",
     "output_type": "stream",
     "text": [
      "Resultado de la función .info()\n",
      "<class 'pandas.core.frame.DataFrame'>\n",
      "RangeIndex: 150930 entries, 0 to 150929\n",
      "Data columns (total 10 columns):\n",
      " #   Column       Non-Null Count   Dtype  \n",
      "---  ------       --------------   -----  \n",
      " 0   country      150925 non-null  object \n",
      " 1   description  150930 non-null  object \n",
      " 2   designation  105195 non-null  object \n",
      " 3   points       150930 non-null  int64  \n",
      " 4   price        137235 non-null  float64\n",
      " 5   province     150925 non-null  object \n",
      " 6   region_1     125870 non-null  object \n",
      " 7   region_2     60953 non-null   object \n",
      " 8   variety      150930 non-null  object \n",
      " 9   winery       150930 non-null  object \n",
      "dtypes: float64(1), int64(1), object(8)\n",
      "memory usage: 11.5+ MB\n"
     ]
    }
   ],
   "source": [
    "# Muestra un resumen conciso del DataFrame\n",
    "print(\"Resultado de la función .info()\")\n",
    "review.info()"
   ]
  },
  {
   "cell_type": "markdown",
   "id": "a6cdaf87",
   "metadata": {},
   "source": [
    "**PUNTO 7:** ¿Cuál es el precio promedio?"
   ]
  },
  {
   "cell_type": "code",
   "execution_count": 12,
   "id": "4982e6f7",
   "metadata": {},
   "outputs": [
    {
     "name": "stdout",
     "output_type": "stream",
     "text": [
      "El precio promedio de los vinos en el dataset es: $33.13 USD\n"
     ]
    }
   ],
   "source": [
    "# Calcular el precio promedio de la columna 'price'\n",
    "average_price = review['price'].mean()\n",
    "\n",
    "# Imprimir el resultado\n",
    "print(f\"El precio promedio de los vinos en el dataset es: ${average_price:.2f} USD\")"
   ]
  },
  {
   "cell_type": "markdown",
   "id": "951ccdd9",
   "metadata": {},
   "source": [
    "**PUNTO 8:** ¿Cuál es el precio más alto pagado?"
   ]
  },
  {
   "cell_type": "code",
   "execution_count": 13,
   "id": "55bff167",
   "metadata": {},
   "outputs": [
    {
     "name": "stdout",
     "output_type": "stream",
     "text": [
      "El precio más alto pagado por un vino en el dataset es: $2300.00 USD\n"
     ]
    }
   ],
   "source": [
    "# Encontrar el valor máximo en la columna 'price'\n",
    "highest_price = review['price'].max()\n",
    "\n",
    "# Imprimir el resultado\n",
    "print(f\"El precio más alto pagado por un vino en el dataset es: ${highest_price:.2f} USD\")"
   ]
  },
  {
   "cell_type": "markdown",
   "id": "9b208bce",
   "metadata": {},
   "source": [
    "**PUNTO 9:** Creación de un DataFrame con todos los vinos de california"
   ]
  },
  {
   "cell_type": "code",
   "execution_count": 14,
   "id": "33fa83e9",
   "metadata": {},
   "outputs": [
    {
     "name": "stdout",
     "output_type": "stream",
     "text": [
      "DataFrame 'california_wines'\n",
      "   country                                        description  \\\n",
      "0       US  This tremendous 100% varietal wine hails from ...   \n",
      "2       US  Mac Watson honors the memory of a wine once ma...   \n",
      "9       US  The producer sources from two blocks of the vi...   \n",
      "16      US  This blockbuster, powerhouse of a wine suggest...   \n",
      "19      US  This fresh and lively medium-bodied wine is be...   \n",
      "20      US  Heitz has made this stellar rosé from the rare...   \n",
      "23      US  The apogee of this ambitious winery's white wi...   \n",
      "\n",
      "                      designation  points  price    province  \\\n",
      "0               Martha's Vineyard      96  235.0  California   \n",
      "2   Special Selected Late Harvest      96   90.0  California   \n",
      "9            Gap's Crown Vineyard      95   60.0  California   \n",
      "16                Rainin Vineyard      95  325.0  California   \n",
      "19           Gap's Crown Vineyard      95   75.0  California   \n",
      "20                     Grignolino      95   24.0  California   \n",
      "23                  Giallo Solare      95   60.0  California   \n",
      "\n",
      "                     region_1       region_2             variety  \\\n",
      "0                 Napa Valley           Napa  Cabernet Sauvignon   \n",
      "2              Knights Valley         Sonoma     Sauvignon Blanc   \n",
      "9                Sonoma Coast         Sonoma          Pinot Noir   \n",
      "16  Diamond Mountain District           Napa  Cabernet Sauvignon   \n",
      "19               Sonoma Coast         Sonoma          Pinot Noir   \n",
      "20                Napa Valley           Napa                Rosé   \n",
      "23                Edna Valley  Central Coast          Chardonnay   \n",
      "\n",
      "              winery  \n",
      "0              Heitz  \n",
      "2           Macauley  \n",
      "9          Blue Farm  \n",
      "16              Hall  \n",
      "19      Gary Farrell  \n",
      "20             Heitz  \n",
      "23  Center of Effort  \n",
      "----------\n",
      "Dimensiones del nuevo DataFrame: 44,508 filas y 10 columnas.\n"
     ]
    }
   ],
   "source": [
    "#importamos las librerias \n",
    "import pandas as pd\n",
    "\n",
    "# 1. Definir la condición de filtrado\n",
    "# seleccionamos las filas \"province\" = \"california\"\n",
    "condition = review['province'] == 'California'\n",
    "\n",
    "# 2. Aplicar el filtro para crear el nuevo DataFrame\n",
    "# Usamos loc[] para seleccionar todas las filas (:) que cumplen la condición.\n",
    "california_wines = review.loc[condition]\n",
    "\n",
    "# 3. Visualizar el resultado \n",
    "print(\"DataFrame 'california_wines'\")\n",
    "print(california_wines.head(7)) \n",
    "print(\"-\" * 10)\n",
    "print(f\"Dimensiones del nuevo DataFrame: {california_wines.shape[0]:,} filas y {california_wines.shape[1]} columnas.\")"
   ]
  },
  {
   "cell_type": "markdown",
   "id": "cb46b300",
   "metadata": {},
   "source": [
    "**PUNTO 10:** idxmax() para enocontrar el indice del vino"
   ]
  },
  {
   "cell_type": "code",
   "execution_count": 15,
   "id": "7b8c7df0",
   "metadata": {},
   "outputs": [
    {
     "name": "stdout",
     "output_type": "stream",
     "text": [
      "El vino más caro de California es:\n",
      "country                                                       US\n",
      "description    The nose on this single-vineyard wine from a s...\n",
      "designation                                  Roger Rose Vineyard\n",
      "points                                                        91\n",
      "price                                                     2013.0\n",
      "province                                              California\n",
      "region_1                                             Arroyo Seco\n",
      "region_2                                           Central Coast\n",
      "variety                                               Chardonnay\n",
      "winery                                                     Blair\n",
      "Name: 13318, dtype: object\n",
      "\n",
      "Índice: 13318, Precio: $2013.00\n"
     ]
    }
   ],
   "source": [
    "# se realiza con 'california_wines' en el punto anterior\n",
    "\n",
    "# 1. Encontrar el índice (fila) del precio más alto\n",
    "# .idxmax() devuelve el índice de la primera aparición del valor máximo.\n",
    "most_expensive_index = california_wines['price'].idxmax()\n",
    "\n",
    "# 2. Utilizar .loc[] con ese índice para obtener toda la información de la fila\n",
    "# Seleccionamos la fila completa del vino más caro del DataFrame de California\n",
    "most_expensive_wine = california_wines.loc[most_expensive_index]\n",
    "\n",
    "# 3. Visualizar el resultado (similar a la Figura 43)\n",
    "print(\"El vino más caro de California es:\")\n",
    "print(most_expensive_wine)\n",
    "\n",
    "# se muestra el indice y el precio\n",
    "print(f\"\\nÍndice: {most_expensive_index}, Precio: ${most_expensive_wine['price']:.2f}\")"
   ]
  },
  {
   "cell_type": "markdown",
   "id": "bb963e96",
   "metadata": {},
   "source": [
    "**PUNTO 11:** ¿Cuáles son los tipos de uvas más comunes en california?"
   ]
  },
  {
   "cell_type": "code",
   "execution_count": 17,
   "id": "98d2bfd4",
   "metadata": {},
   "outputs": [
    {
     "name": "stdout",
     "output_type": "stream",
     "text": [
      "Tipos de Uva más Comunes en California\n",
      "variety\n",
      "Pinot Noir                   7633\n",
      "Cabernet Sauvignon           7452\n",
      "Chardonnay                   6536\n",
      "Zinfandel                    3691\n",
      "Syrah                        2705\n",
      "                             ... \n",
      "Madeira Blend                   1\n",
      "Sauvignon Musqué                1\n",
      "Cabernet Sauvignon-Malbec       1\n",
      "Viognier-Valdiguié              1\n",
      "Pinot Grigio-Chardonnay         1\n",
      "Name: count, Length: 167, dtype: int64\n",
      "\n",
      "Total de variedades distintas en California: 167\n"
     ]
    }
   ],
   "source": [
    "# se realiza con'california_wines' \n",
    "\n",
    "# 1. Seleccionar la columna 'variety' del DataFrame de California\n",
    "california_varieties = california_wines['variety']\n",
    "\n",
    "# 2. Contar la frecuencia de cada tipo de uva\n",
    "# .value_counts() cuenta las ocurrencias de cada valor único\n",
    "# y las ordena automáticamente de forma descendente.\n",
    "most_common_varieties = california_varieties.value_counts()\n",
    "\n",
    "# 3. Visualizar el resultado\n",
    "print(\"Tipos de Uva más Comunes en California\")\n",
    "print(most_common_varieties)\n",
    "\n",
    "#Mostrar el total de variedades distintas\n",
    "print(f\"\\nTotal de variedades distintas en California: {len(most_common_varieties)}\")"
   ]
  },
  {
   "cell_type": "markdown",
   "id": "d6b4098d",
   "metadata": {},
   "source": [
    "**PUNTO 12:** ¿Cuáles son los 10 tipos de uva más comunes en California?"
   ]
  },
  {
   "cell_type": "code",
   "execution_count": 18,
   "id": "13341654",
   "metadata": {},
   "outputs": [
    {
     "name": "stdout",
     "output_type": "stream",
     "text": [
      "Los 10 Tipos de Uva Más Comunes en California\n",
      "variety\n",
      "Pinot Noir                  7633\n",
      "Cabernet Sauvignon          7452\n",
      "Chardonnay                  6536\n",
      "Zinfandel                   3691\n",
      "Syrah                       2705\n",
      "Merlot                      2293\n",
      "Sauvignon Blanc             2220\n",
      "Red Blend                   1783\n",
      "Bordeaux-style Red Blend    1130\n",
      "Petite Sirah                 830\n",
      "Name: count, dtype: int64\n"
     ]
    }
   ],
   "source": [
    "# 1. Contar la frecuencia de cada tipo de uva en California\n",
    "# .value_counts() ordena automáticamente de mayor a menor.\n",
    "most_common_varieties = california_wines['variety'].value_counts()\n",
    "\n",
    "# 2. Seleccionar las 10 primeras entradas \n",
    "top_10_varieties = most_common_varieties.head(10)\n",
    "\n",
    "# 3. Visualizar el resultado\n",
    "print(\"Los 10 Tipos de Uva Más Comunes en California\")\n",
    "print(top_10_varieties)"
   ]
  }
 ],
 "metadata": {
  "kernelspec": {
   "display_name": "Python 3",
   "language": "python",
   "name": "python3"
  },
  "language_info": {
   "codemirror_mode": {
    "name": "ipython",
    "version": 3
   },
   "file_extension": ".py",
   "mimetype": "text/x-python",
   "name": "python",
   "nbconvert_exporter": "python",
   "pygments_lexer": "ipython3",
   "version": "3.12.1"
  }
 },
 "nbformat": 4,
 "nbformat_minor": 5
}
