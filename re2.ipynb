{
 "cells": [
  {
   "cell_type": "code",
   "execution_count": 8,
   "id": "2d651d6a",
   "metadata": {},
   "outputs": [
    {
     "ename": "IndentationError",
     "evalue": "unexpected indent (810138608.py, line 9)",
     "output_type": "error",
     "traceback": [
      "  \u001b[36mCell\u001b[39m\u001b[36m \u001b[39m\u001b[32mIn[8]\u001b[39m\u001b[32m, line 9\u001b[39m\n\u001b[31m    \u001b[39m\u001b[31mdef obtener_datos_kaggle(self,url=\"pratyushpuri/financial-news-market-events-dataset-2025\"):\u001b[39m\n    ^\n\u001b[31mIndentationError\u001b[39m\u001b[31m:\u001b[39m unexpected indent\n"
     ]
    }
   ],
   "source": [
    "#1. funcion que obtenga los datos\n",
    "#2. Enriquecerlos (2 mas columnas),archivo de datos.entregable2.csv\n",
    "#3. generar graficos de los datos (dispercion , dencidad , historiograma) entregable2.jpg ,archivo de datos.entregable2.csv actualizado \n",
    "\n",
    "\n",
    "\n",
    "#class Entregable_dos():\n",
    "\n",
    "    def obtener_datos_kaggle(self,url=\"pratyushpuri/financial-news-market-events-dataset-2025\"):\n",
    "        df = pd.DataFrame()\n",
    "        datagen= DataGenerator()\n",
    "        dataset = datagen.download_dataset_zip(url) \n",
    "        csv_dir =datagen.extract_zip_files(dataset)\n",
    "        df = datagen.create_csv(csv_dir)\n",
    "        return df\n",
    "    \n",
    "    def enriquecer_df(self,df = pd.DataFrame()):\n",
    "        df = df\n",
    "        df[\"A\"]=\"\"\n",
    "        df[\"B\"]=0\n",
    "        return df\n",
    "    \n",
    "    def generar_imagenes(self,df = pd.DataFrame()):\n",
    "        print(\"se guardaron las imagenes\")\n",
    "\n",
    "\n",
    "entdos= Entregable_dos()\n",
    "df = entdos.obtener_datos_kaggle((\"nikhilmaurya1324/swiggy-restaurant-data-india\"))\n",
    "print(df.head(2))\n",
    "print(\"*****************************************************************************************************************************\")\n",
    "df = entdos.enriquecer_df(df)\n",
    "print(df.head(2))\n",
    "print(\"*****************************************************************************************************************************\")"
   ]
  },
  {
   "cell_type": "markdown",
   "id": "8957e5af",
   "metadata": {},
   "source": [
    "graficos semana 4"
   ]
  },
  {
   "cell_type": "code",
   "execution_count": 22,
   "id": "a763e609",
   "metadata": {},
   "outputs": [
    {
     "name": "stderr",
     "output_type": "stream",
     "text": [
      "/usr/local/python/3.12.1/lib/python3.12/site-packages/tqdm/auto.py:21: TqdmWarning: IProgress not found. Please update jupyter and ipywidgets. See https://ipywidgets.readthedocs.io/en/stable/user_install.html\n",
      "  from .autonotebook import tqdm as notebook_tqdm\n"
     ]
    }
   ],
   "source": [
    "import pandas as pd\n",
    "import numpy as np\n",
    "\n",
    "import matplotlib.pyplot as plt\n",
    "import seaborn as sns\n",
    "from datagenerator import DataGenerator\n",
    "\n",
    "import warnings\n",
    "warnings.filterwarnings(\"ignore\")\n",
    "\n",
    "%matplotlib inline"
   ]
  },
  {
   "cell_type": "code",
   "execution_count": 23,
   "id": "d2aabff1",
   "metadata": {},
   "outputs": [],
   "source": [
    "datagen = DataGenerator()"
   ]
  },
  {
   "cell_type": "code",
   "execution_count": 24,
   "id": "1682c529",
   "metadata": {},
   "outputs": [
    {
     "name": "stdout",
     "output_type": "stream",
     "text": [
      "Descargando dataset desde Kaggle...\n",
      "Ruta al dataset: /home/codespace/.cache/kagglehub/datasets/pratyushpuri/financial-news-market-events-dataset-2025/versions/1\n",
      "No se encontró archivo ZIP pero se detectaron archivos CSV; se asume que el dataset ya se encuentra extraído.\n",
      "Leyendo /home/codespace/.cache/kagglehub/datasets/pratyushpuri/financial-news-market-events-dataset-2025/versions/1/financial_news_events.csv...\n",
      "Creando/actualizando \n",
      "cvs creado correctamente en \n"
     ]
    }
   ],
   "source": [
    "df1 = pd.DataFrame()\n",
    "dataset = datagen.download_dataset_zip(\"pratyushpuri/financial-news-market-events-dataset-2025\") \n",
    "csv_dir =datagen.extract_zip_files(dataset)\n",
    "df1 = datagen.create_csv(csv_dir)"
   ]
  },
  {
   "cell_type": "code",
   "execution_count": 25,
   "id": "6f8bef3c",
   "metadata": {},
   "outputs": [],
   "source": [
    "def obtener_datos_kaggle(url=\"\"):\n",
    "        df = pd.DataFrame()\n",
    "        datagen= DataGenerator()\n",
    "        dataset = datagen.download_dataset_zip(url) \n",
    "        csv_dir =datagen.extract_zip_files(dataset)\n",
    "        df = datagen.create_csv(csv_dir)\n",
    "        return df"
   ]
  },
  {
   "cell_type": "code",
   "execution_count": 26,
   "id": "6600d41d",
   "metadata": {},
   "outputs": [
    {
     "data": {
      "text/html": [
       "<div>\n",
       "<style scoped>\n",
       "    .dataframe tbody tr th:only-of-type {\n",
       "        vertical-align: middle;\n",
       "    }\n",
       "\n",
       "    .dataframe tbody tr th {\n",
       "        vertical-align: top;\n",
       "    }\n",
       "\n",
       "    .dataframe thead th {\n",
       "        text-align: right;\n",
       "    }\n",
       "</style>\n",
       "<table border=\"1\" class=\"dataframe\">\n",
       "  <thead>\n",
       "    <tr style=\"text-align: right;\">\n",
       "      <th></th>\n",
       "      <th>Date</th>\n",
       "      <th>Headline</th>\n",
       "      <th>Source</th>\n",
       "      <th>Market_Event</th>\n",
       "      <th>Market_Index</th>\n",
       "      <th>Index_Change_Percent</th>\n",
       "      <th>Trading_Volume</th>\n",
       "      <th>Sentiment</th>\n",
       "      <th>Sector</th>\n",
       "      <th>Impact_Level</th>\n",
       "      <th>Related_Company</th>\n",
       "      <th>News_Url</th>\n",
       "    </tr>\n",
       "  </thead>\n",
       "  <tbody>\n",
       "    <tr>\n",
       "      <th>0</th>\n",
       "      <td>2025-05-21</td>\n",
       "      <td>Nikkei 225 index benefits from a weaker yen</td>\n",
       "      <td>Times of India</td>\n",
       "      <td>Commodity Price Shock</td>\n",
       "      <td>DAX</td>\n",
       "      <td>3.52</td>\n",
       "      <td>166.45</td>\n",
       "      <td>NaN</td>\n",
       "      <td>Technology</td>\n",
       "      <td>High</td>\n",
       "      <td>Goldman Sachs</td>\n",
       "      <td>https://timesofindia.indiatimes.com/business/m...</td>\n",
       "    </tr>\n",
       "    <tr>\n",
       "      <th>1</th>\n",
       "      <td>2025-05-18</td>\n",
       "      <td>Government subsidy program gives a lift to the...</td>\n",
       "      <td>Financial Times</td>\n",
       "      <td>Central Bank Meeting</td>\n",
       "      <td>Shanghai Composite</td>\n",
       "      <td>-3.39</td>\n",
       "      <td>57.61</td>\n",
       "      <td>NaN</td>\n",
       "      <td>Retail</td>\n",
       "      <td>Low</td>\n",
       "      <td>ExxonMobil</td>\n",
       "      <td>https://timesofindia.indiatimes.com/business/m...</td>\n",
       "    </tr>\n",
       "  </tbody>\n",
       "</table>\n",
       "</div>"
      ],
      "text/plain": [
       "         Date                                           Headline  \\\n",
       "0  2025-05-21        Nikkei 225 index benefits from a weaker yen   \n",
       "1  2025-05-18  Government subsidy program gives a lift to the...   \n",
       "\n",
       "            Source           Market_Event        Market_Index  \\\n",
       "0   Times of India  Commodity Price Shock                 DAX   \n",
       "1  Financial Times   Central Bank Meeting  Shanghai Composite   \n",
       "\n",
       "   Index_Change_Percent  Trading_Volume Sentiment      Sector Impact_Level  \\\n",
       "0                  3.52          166.45       NaN  Technology         High   \n",
       "1                 -3.39           57.61       NaN      Retail          Low   \n",
       "\n",
       "  Related_Company                                           News_Url  \n",
       "0   Goldman Sachs  https://timesofindia.indiatimes.com/business/m...  \n",
       "1      ExxonMobil  https://timesofindia.indiatimes.com/business/m...  "
      ]
     },
     "execution_count": 26,
     "metadata": {},
     "output_type": "execute_result"
    }
   ],
   "source": [
    "df1.head(2)"
   ]
  },
  {
   "cell_type": "code",
   "execution_count": null,
   "id": "78648061",
   "metadata": {},
   "outputs": [],
   "source": []
  }
 ],
 "metadata": {
  "kernelspec": {
   "display_name": "Python 3",
   "language": "python",
   "name": "python3"
  },
  "language_info": {
   "codemirror_mode": {
    "name": "ipython",
    "version": 3
   },
   "file_extension": ".py",
   "mimetype": "text/x-python",
   "name": "python",
   "nbconvert_exporter": "python",
   "pygments_lexer": "ipython3",
   "version": "3.12.1"
  }
 },
 "nbformat": 4,
 "nbformat_minor": 5
}
