{
 "cells": [
  {
   "cell_type": "code",
   "execution_count": 3,
   "id": "2d651d6a",
   "metadata": {},
   "outputs": [
    {
     "ename": "ModuleNotFoundError",
     "evalue": "No module named 'src'",
     "output_type": "error",
     "traceback": [
      "\u001b[31m---------------------------------------------------------------------------\u001b[39m",
      "\u001b[31mModuleNotFoundError\u001b[39m                       Traceback (most recent call last)",
      "\u001b[36mCell\u001b[39m\u001b[36m \u001b[39m\u001b[32mIn[3]\u001b[39m\u001b[32m, line 5\u001b[39m\n\u001b[32m      1\u001b[39m \u001b[38;5;66;03m#1. funcion que obtenga los datos\u001b[39;00m\n\u001b[32m      2\u001b[39m \u001b[38;5;66;03m#2. Enriquecerlos (2 mas columnas),archivo de datos.entregable2.csv\u001b[39;00m\n\u001b[32m      3\u001b[39m \u001b[38;5;66;03m#3. generar graficos de los datos (dispercion , dencidad , historiograma) entregable2.jpg ,archivo de datos.entregable2.csv actualizado \u001b[39;00m\n\u001b[32m----> \u001b[39m\u001b[32m5\u001b[39m \u001b[38;5;28;01mfrom\u001b[39;00m\u001b[38;5;250m \u001b[39m\u001b[34;01msrc\u001b[39;00m\u001b[34;01m.\u001b[39;00m\u001b[34;01mclases_ad\u001b[39;00m\u001b[34;01m.\u001b[39;00m\u001b[34;01mdatagenerator\u001b[39;00m\u001b[38;5;250m \u001b[39m\u001b[38;5;28;01mimport\u001b[39;00m DataGenerator\n\u001b[32m      6\u001b[39m \u001b[38;5;28;01mimport\u001b[39;00m\u001b[38;5;250m \u001b[39m\u001b[34;01mpandas\u001b[39;00m\u001b[38;5;250m \u001b[39m\u001b[38;5;28;01mas\u001b[39;00m\u001b[38;5;250m \u001b[39m\u001b[34;01mpd\u001b[39;00m\n\u001b[32m     10\u001b[39m \u001b[38;5;28;01mclass\u001b[39;00m\u001b[38;5;250m \u001b[39m\u001b[34;01mEntregable_dos\u001b[39;00m():\n",
      "\u001b[31mModuleNotFoundError\u001b[39m: No module named 'src'"
     ]
    }
   ],
   "source": [
    "#1. funcion que obtenga los datos\n",
    "#2. Enriquecerlos (2 mas columnas),archivo de datos.entregable2.csv\n",
    "#3. generar graficos de los datos (dispercion , dencidad , historiograma) entregable2.jpg ,archivo de datos.entregable2.csv actualizado \n",
    "\n",
    "from src.clases_ad.datagenerator import DataGenerator\n",
    "import pandas as pd\n",
    "\n",
    "\n",
    "\n",
    "class Entregable_dos():\n",
    "\n",
    "    def obtener_datos_kaggle(self,url=\"\"):\n",
    "        df = pd.DataFrame()\n",
    "        datagen= DataGenerator()\n",
    "        dataset = datagen.download_dataset_zip(url) \n",
    "        csv_dir =datagen.extract_zip_files(dataset)\n",
    "        df = datagen.create_csv(csv_dir)\n",
    "        return df\n",
    "    \n",
    "    def enriquecer_df(self,df = pd.DataFrame()):\n",
    "        df = df\n",
    "        df[\"A\"]=\"\"\n",
    "        df[\"B\"]=0\n",
    "        return df\n",
    "    \n",
    "    def generar_imagenes(self,df = pd.DataFrame()):\n",
    "        print(\"se guardaron las imagenes\")\n",
    "\n",
    "\n",
    "entdos= Entregable_dos()\n",
    "df = entdos.obtener_datos_kaggle((\"nikhilmaurya1324/swiggy-restaurant-data-india\"))\n",
    "print(df.head(2))\n",
    "print(\"*****************************************************************************************************************************\")\n",
    "df = entdos.enriquecer_df(df)\n",
    "print(df.head(2))\n",
    "print(\"*****************************************************************************************************************************\")"
   ]
  },
  {
   "cell_type": "markdown",
   "id": "8957e5af",
   "metadata": {},
   "source": [
    "graficos semana 4"
   ]
  },
  {
   "cell_type": "code",
   "execution_count": 2,
   "id": "ebcf737b",
   "metadata": {},
   "outputs": [
    {
     "ename": "IndentationError",
     "evalue": "unindent does not match any outer indentation level (<string>, line 7)",
     "output_type": "error",
     "traceback": [
      "  \u001b[36mFile \u001b[39m\u001b[32m<string>:7\u001b[39m\n\u001b[31m    \u001b[39m\u001b[31m]\u001b[39m\n     ^\n\u001b[31mIndentationError\u001b[39m\u001b[31m:\u001b[39m unindent does not match any outer indentation level\n"
     ]
    }
   ],
   "source": [
    " \"requests\",\n",
    "        \"beautifulsoup4\",\n",
    "        \"matplotlib\",\n",
    "        \"kagglehub[pandas-datasets]>=0.3.8\"\n",
    "        \"kagglehub[pandas-datasets]>=0.3.8\",\n",
    "        \"seaborn\"\n",
    "    ]"
   ]
  }
 ],
 "metadata": {
  "kernelspec": {
   "display_name": "Python 3",
   "language": "python",
   "name": "python3"
  },
  "language_info": {
   "codemirror_mode": {
    "name": "ipython",
    "version": 3
   },
   "file_extension": ".py",
   "mimetype": "text/x-python",
   "name": "python",
   "nbconvert_exporter": "python",
   "pygments_lexer": "ipython3",
   "version": "3.12.1"
  }
 },
 "nbformat": 4,
 "nbformat_minor": 5
}
