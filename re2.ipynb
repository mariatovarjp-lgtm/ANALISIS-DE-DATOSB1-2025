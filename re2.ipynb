{
 "cells": [
  {
   "cell_type": "code",
   "execution_count": null,
   "id": "2d651d6a",
   "metadata": {},
   "outputs": [
    {
     "ename": "IndentationError",
     "evalue": "unexpected indent (2463831159.py, line 17)",
     "output_type": "error",
     "traceback": [
      "  \u001b[36mCell\u001b[39m\u001b[36m \u001b[39m\u001b[32mIn[1]\u001b[39m\u001b[32m, line 17\u001b[39m\n\u001b[31m    \u001b[39m\u001b[31mdef obtener_datos_kaggle(self,url=\"pratyushpuri/financial-news-market-events-dataset-2025\"):\u001b[39m\n    ^\n\u001b[31mIndentationError\u001b[39m\u001b[31m:\u001b[39m unexpected indent\n"
     ]
    }
   ],
   "source": [
    "#1. funcion que obtenga los datos\n",
    "#2. Enriquecerlos (2 mas columnas),archivo de datos.entregable2.csv\n",
    "#3. generar graficos de los datos (dispercion , dencidad , historiograma) entregable2.jpg ,archivo de datos.entregable2.csv actualizado \n",
    "\n",
    "\n",
    "\n",
    "#class Entregable_dos():\n",
    "\n",
    "    def obtener_datos_kaggle(self,url=\"pratyushpuri/financial-news-market-events-dataset-2025\"):\n",
    "        df = pd.DataFrame()\n",
    "        datagen= DataGenerator()\n",
    "        dataset = datagen.download_dataset_zip(url) \n",
    "        csv_dir =datagen.extract_zip_files(dataset)\n",
    "        df = datagen.create_csv(csv_dir)\n",
    "        return df\n",
    "    \n",
    "    def enriquecer_df(self,df = pd.DataFrame()):\n",
    "        df = df\n",
    "        df[\"A\"]=\"\"\n",
    "        df[\"B\"]=0\n",
    "        return df\n",
    "    \n",
    "    def generar_imagenes(self,df = pd.DataFrame()):\n",
    "        print(\"se guardaron las imagenes\")\n",
    "\n",
    "\n",
    "entdos= Entregable_dos()\n",
    "df = entdos.obtener_datos_kaggle((\"nikhilmaurya1324/swiggy-restaurant-data-india\"))\n",
    "print(df.head(2))\n",
    "print(\"*****************************************************************************************************************************\")\n",
    "df = entdos.enriquecer_df(df)\n",
    "print(df.head(2))\n",
    "print(\"*****************************************************************************************************************************\")"
   ]
  },
  {
   "cell_type": "markdown",
   "id": "8957e5af",
   "metadata": {},
   "source": [
    "graficos semana 4"
   ]
  },
  {
   "cell_type": "code",
   "execution_count": 10,
   "id": "a763e609",
   "metadata": {},
   "outputs": [],
   "source": [
    "import pandas as pd\n",
    "import numpy as np\n",
    "\n",
    "import matplotlib.pyplot as plt\n",
    "import seaborn as sns\n",
    "from datagenerator import DataGenerator\n",
    "\n",
    "import warnings\n",
    "warnings.filterwarnings(\"ignore\")\n",
    "\n",
    "%matplotlib inline"
   ]
  },
  {
   "cell_type": "code",
   "execution_count": 11,
   "id": "d2aabff1",
   "metadata": {},
   "outputs": [],
   "source": [
    "datagen = DataGenerator()"
   ]
  },
  {
   "cell_type": "code",
   "execution_count": null,
   "id": "1682c529",
   "metadata": {},
   "outputs": [
    {
     "name": "stdout",
     "output_type": "stream",
     "text": [
      "Descargando dataset desde Kaggle...\n",
      "Downloading from https://www.kaggle.com/api/v1/datasets/download/pratyushpuri/financial-news-market-events-dataset-2025?dataset_version_number=1...\n"
     ]
    },
    {
     "name": "stderr",
     "output_type": "stream",
     "text": [
      "100%|██████████| 408k/408k [00:00<00:00, 22.2MB/s]"
     ]
    },
    {
     "name": "stdout",
     "output_type": "stream",
     "text": [
      "Extracting files...\n",
      "Ruta al dataset: /home/codespace/.cache/kagglehub/datasets/pratyushpuri/financial-news-market-events-dataset-2025/versions/1\n",
      "No se encontró archivo ZIP pero se detectaron archivos CSV; se asume que el dataset ya se encuentra extraído.\n",
      "Leyendo /home/codespace/.cache/kagglehub/datasets/pratyushpuri/financial-news-market-events-dataset-2025/versions/1/financial_news_events.csv...\n",
      "Creando/actualizando \n",
      "cvs creado correctamente en \n"
     ]
    },
    {
     "name": "stderr",
     "output_type": "stream",
     "text": [
      "\n"
     ]
    }
   ],
   "source": [
    "df1 = pd.DataFrame()\n",
    "dataset = datagen.download_dataset_zip(\"pratyushpuri/financial-news-market-events-dataset-2025\") \n",
    "csv_dir =datagen.extract_zip_files(dataset)\n",
    "df1 = datagen.create_csv(csv_dir)"
   ]
  },
  {
   "cell_type": "code",
   "execution_count": 13,
   "id": "6f8bef3c",
   "metadata": {},
   "outputs": [],
   "source": [
    "def obtener_datos_kaggle(self,url=\"\"):\n",
    "        df = pd.DataFrame()\n",
    "        datagen= DataGenerator()\n",
    "        dataset = datagen.download_dataset_zip(url) \n",
    "        csv_dir =datagen.extract_zip_files(dataset)\n",
    "        df = datagen.create_csv(csv_dir)\n",
    "        return df"
   ]
  }
 ],
 "metadata": {
  "kernelspec": {
   "display_name": "Python 3",
   "language": "python",
   "name": "python3"
  },
  "language_info": {
   "codemirror_mode": {
    "name": "ipython",
    "version": 3
   },
   "file_extension": ".py",
   "mimetype": "text/x-python",
   "name": "python",
   "nbconvert_exporter": "python",
   "pygments_lexer": "ipython3",
   "version": "3.12.1"
  }
 },
 "nbformat": 4,
 "nbformat_minor": 5
}
